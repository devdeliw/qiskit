{
 "cells": [
  {
   "cell_type": "markdown",
   "metadata": {},
   "source": [
    "There are many different algorithms provided by Qiskit. Minimum eigensolvers, time evolvers, and amplitude estimators. The full set of categories can be seen in Qiskit's algorithm documentation. "
   ]
  },
  {
   "cell_type": "markdown",
   "metadata": {},
   "source": [
    "In this notebook we'll study the VQE, the Variational Quantum Eigensolver, which takes a trial wave function, in the form of a QuantumCircuit, and a classical optimizer among other things. \n",
    "\n",
    "Let's take a look at an example to construct a VQE instance. Here TwoLocal is the variational form (trial wave function), a parameterized circuit which can be varied. And SLSQP is a classical optimizer. "
   ]
  },
  {
   "cell_type": "code",
   "execution_count": 5,
   "metadata": {},
   "outputs": [],
   "source": [
    "from qiskit_algorithms.optimizers import SLSQP\n",
    "from qiskit.circuit.library import TwoLocal\n",
    "\n",
    "num_qubits = 2\n",
    "ansatz = TwoLocal(num_qubits, 'ry', 'cz')\n",
    "optimizer = SLSQP(maxiter = 1000)"
   ]
  },
  {
   "cell_type": "markdown",
   "metadata": {},
   "source": [
    "Let's draw the ansatz so we can see it's a QuantumCircuit where theta[0] through theta[7] are the parameters that will be varied by the VQE to find the minimum eigenvalue. "
   ]
  },
  {
   "cell_type": "code",
   "execution_count": 9,
   "metadata": {},
   "outputs": [
    {
     "data": {
      "image/png": "[encoded data removed]",
      "text/plain": [
       "<Figure size 705.35x200.667 with 1 Axes>"
      ]
     },
     "execution_count": 9,
     "metadata": {},
     "output_type": "execute_result"
    }
   ],
   "source": [
    "ansatz.decompose().draw('mpl')"
   ]
  },
  {
   "cell_type": "markdown",
   "metadata": {},
   "source": [
    "### Running the algorithm\n",
    "\n",
    "\n",
    "Algorithms rely on the primitives to evaluate expectation values or sample circuits. The primitives can be based on a simulator or real device and can be used interchangeably in the algorithm, as they all implement the same interface. \n",
    "\n",
    "In the VQE, we evaluate expectation values, so we use the `qiskit.primtives.Estimator` primitive. "
   ]
  },
  {
   "cell_type": "code",
   "execution_count": 13,
   "metadata": {},
   "outputs": [],
   "source": [
    "from qiskit.primitives import Estimator\n",
    "\n",
    "estimator = Estimator()"
   ]
  },
  {
   "cell_type": "markdown",
   "metadata": {},
   "source": [
    "This estimator uses an exact statevector simulation to evaluate teh expectation values. We can also use a shot-based or noisy simulators or real backend instead. \n",
    "\n",
    "Let's now instantiate the VQE"
   ]
  },
  {
   "cell_type": "code",
   "execution_count": 15,
   "metadata": {},
   "outputs": [],
   "source": [
    "from qiskit_algorithms.minimum_eigensolvers import VQE\n",
    "\n",
    "vqe = VQE(estimator, ansatz, optimizer)"
   ]
  },
  {
   "cell_type": "markdown",
   "metadata": {},
   "source": [
    "## Complete Working Example"
   ]
  },
  {
   "cell_type": "markdown",
   "metadata": {},
   "source": [
    "VQE will find the minimum eigenvalue (minimum energy value of hamiltonian) and hence we need such an operator for VQE to work with. Such an operator is given below. This was originally created by the Nature application module as the Hamiltonian for an H2 molecule at 0.735A interatomic distance. It is a sum of Pauli terms below. "
   ]
  },
  {
   "cell_type": "code",
   "execution_count": 19,
   "metadata": {},
   "outputs": [],
   "source": [
    "from qiskit.quantum_info import SparsePauliOp, Operator\n",
    "\n",
    "H2_op = SparsePauliOp.from_list([\n",
    "    (\"II\", -1.052373245772859),\n",
    "    (\"IZ\", 0.39793742484318045),\n",
    "    (\"ZI\", -0.39793742484318045),\n",
    "    (\"ZZ\", -0.01128010425623538),\n",
    "    (\"XX\", 0.18093119978423156)\n",
    "])"
   ]
  },
  {
   "cell_type": "markdown",
   "metadata": {},
   "source": [
    "Now let's run the VQE and print the result object it returns"
   ]
  },
  {
   "cell_type": "code",
   "execution_count": 20,
   "metadata": {},
   "outputs": [
    {
     "name": "stdout",
     "output_type": "stream",
     "text": [
      "{   'aux_operators_evaluated': None,\n",
      "    'cost_function_evals': 121,\n",
      "    'eigenvalue': -1.8572748731959305,\n",
      "    'optimal_circuit': <qiskit.circuit.library.n_local.two_local.TwoLocal object at 0x2aa95e900>,\n",
      "    'optimal_parameters': {   ParameterVectorElement(θ[0]): -1.3224336599427673,\n",
      "                              ParameterVectorElement(θ[1]): -6.806089835497214,\n",
      "                              ParameterVectorElement(θ[4]): -4.935566265802771,\n",
      "                              ParameterVectorElement(θ[2]): -0.8946270849257044,\n",
      "                              ParameterVectorElement(θ[3]): 2.0940136252885053,\n",
      "                              ParameterVectorElement(θ[5]): -4.058555539770799,\n",
      "                              ParameterVectorElement(θ[6]): -1.4077839943569097,\n",
      "                              ParameterVectorElement(θ[7]): 5.25420519504224},\n",
      "    'optimal_point': array([-1.32243366, -6.80608984, -0.89462708,  2.09401363, -4.93556627,\n",
      "       -4.05855554, -1.40778399,  5.2542052 ]),\n",
      "    'optimal_value': -1.8572748731959305,\n",
      "    'optimizer_evals': None,\n",
      "    'optimizer_result': <qiskit_algorithms.optimizers.optimizer.OptimizerResult object at 0x2aa3661e0>,\n",
      "    'optimizer_time': 0.1043238639831543}\n"
     ]
    }
   ],
   "source": [
    "result = vqe.compute_minimum_eigenvalue(H2_op)\n",
    "print(result)"
   ]
  },
  {
   "cell_type": "markdown",
   "metadata": {},
   "source": [
    "After 121 iterations of trying to minimize the cost function, it found a minimum eigenvalue of $\\approx-1.85727$, which is the electronic ground state of the given H2 molecule. The optimal parameters of the ansatz can also be seen which are the values that were in the ansatz at the minimum value. "
   ]
  },
  {
   "cell_type": "markdown",
   "metadata": {},
   "source": [
    "## Updating Primitive Inside the VQE"
   ]
  },
  {
   "cell_type": "markdown",
   "metadata": {},
   "source": [
    "Let's change the estimator inside the VQE. \n",
    "\n",
    "In this example we are changing to a shot-based estimator, not an exact simulation. for noisy-loss functions, the SPSA optimizer typically performs well, so we also update the optimizer. "
   ]
  },
  {
   "cell_type": "code",
   "execution_count": 36,
   "metadata": {},
   "outputs": [
    {
     "name": "stdout",
     "output_type": "stream",
     "text": [
      "{   'aux_operators_evaluated': None,\n",
      "    'cost_function_evals': 200,\n",
      "    'eigenvalue': -1.857123791775244,\n",
      "    'optimal_circuit': <qiskit.circuit.library.n_local.two_local.TwoLocal object at 0x2ab497fe0>,\n",
      "    'optimal_parameters': {   ParameterVectorElement(θ[0]): -1.2426721802495542,\n",
      "                              ParameterVectorElement(θ[1]): 0.6174632396162294,\n",
      "                              ParameterVectorElement(θ[4]): -0.9863428463249295,\n",
      "                              ParameterVectorElement(θ[2]): -5.408099003978535,\n",
      "                              ParameterVectorElement(θ[3]): -2.6968289211061265,\n",
      "                              ParameterVectorElement(θ[5]): -7.153529665104122,\n",
      "                              ParameterVectorElement(θ[6]): -3.5318279868260065,\n",
      "                              ParameterVectorElement(θ[7]): 3.0840662808922277},\n",
      "    'optimal_point': array([-1.24267218,  0.61746324, -5.408099  , -2.69682892, -0.98634285,\n",
      "       -7.15352967, -3.53182799,  3.08406628]),\n",
      "    'optimal_value': -1.857123791775244,\n",
      "    'optimizer_evals': None,\n",
      "    'optimizer_result': <qiskit_algorithms.optimizers.optimizer.OptimizerResult object at 0x2ab48e6c0>,\n",
      "    'optimizer_time': 0.22760677337646484}\n"
     ]
    }
   ],
   "source": [
    "from  qiskit_algorithms.optimizers import SPSA\n",
    "\n",
    "estimator = Estimator(options = {'shots': 1000})\n",
    "\n",
    "vqe.estimator = estimator \n",
    "vqe.optimizer = SPSA(maxiter = 100)\n",
    "\n",
    "result = vqe.compute_minimum_eigenvalue(operator = H2_op)\n",
    "print(result)"
   ]
  }
 ],
 "metadata": {
  "kernelspec": {
   "display_name": "base",
   "language": "python",
   "name": "python3"
  },
  "language_info": {
   "codemirror_mode": {
    "name": "ipython",
    "version": 3
   },
   "file_extension": ".py",
   "mimetype": "text/x-python",
   "name": "python",
   "nbconvert_exporter": "python",
   "pygments_lexer": "ipython3",
   "version": "3.12.2"
  }
 },
 "nbformat": 4,
 "nbformat_minor": 2
}
