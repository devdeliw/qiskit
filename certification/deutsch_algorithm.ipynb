{
 "cells": [
  {
   "cell_type": "code",
   "execution_count": 19,
   "metadata": {},
   "outputs": [],
   "source": [
    "from qiskit import QuantumCircuit, ClassicalRegister\n",
    "from qiskit_aer import AerSimulator"
   ]
  },
  {
   "cell_type": "markdown",
   "metadata": {},
   "source": [
    "## Deutsch's Algorithm"
   ]
  },
  {
   "cell_type": "code",
   "execution_count": 22,
   "metadata": {},
   "outputs": [],
   "source": [
    "def deutsch_function(case: int): \n",
    "\n",
    "    if case not in [1, 2, 3, 4]: \n",
    "        raise ValueError(' case must be 1, 2, 3, or 4')\n",
    "    \n",
    "    f = QuantumCircuit(2)\n",
    "    if case in [2, 3]: \n",
    "        f.cx(0, 1)\n",
    "    if case in [3, 4]: \n",
    "        f.x(1)\n",
    "\n",
    "    return f \n",
    "\n",
    "def compile_circuit(function: QuantumCircuit): \n",
    "\n",
    "    n = function.num_qubits - 1\n",
    "    qc = QuantumCircuit(n + 1, n)\n",
    "\n",
    "    qc.x(n)\n",
    "    qc.h(range(n+1))\n",
    "\n",
    "    qc.barrier()\n",
    "    qc.compose(function, inplace = True)\n",
    "    qc.barrier()\n",
    "\n",
    "    qc.h(range(n))\n",
    "    qc.measure(range(n), range(n))\n",
    "\n",
    "    return qc\n",
    "\n",
    "def deutsch_algorithm(function: QuantumCircuit): \n",
    "\n",
    "    qc = compile_circuit(function)\n",
    "\n",
    "    result = AerSimulator().run(qc, shots = 1, memory = True).result()\n",
    "    measurements = result.get_memory()\n",
    "\n",
    "    if measurements[0] == '0': \n",
    "        return 'constant'\n",
    "    return 'balanced'\n"
   ]
  },
  {
   "cell_type": "code",
   "execution_count": 32,
   "metadata": {},
   "outputs": [
    {
     "data": {
      "text/html": [
       "<pre style=\"word-wrap: normal;white-space: pre;background: #fff0;line-height: 1.1;font-family: &quot;Courier New&quot;,Courier,monospace\">               \n",
       "q_0: ──■───────\n",
       "     ┌─┴─┐┌───┐\n",
       "q_1: ┤ X ├┤ X ├\n",
       "     └───┘└───┘</pre>"
      ],
      "text/plain": [
       "               \n",
       "q_0: ──■───────\n",
       "     ┌─┴─┐┌───┐\n",
       "q_1: ┤ X ├┤ X ├\n",
       "     └───┘└───┘"
      ]
     },
     "metadata": {},
     "output_type": "display_data"
    },
    {
     "data": {
      "text/plain": [
       "'balanced'"
      ]
     },
     "metadata": {},
     "output_type": "display_data"
    }
   ],
   "source": [
    "f = deutsch_function(3)\n",
    "display(f.draw())\n",
    "display(deutsch_algorithm(f))"
   ]
  },
  {
   "cell_type": "markdown",
   "metadata": {},
   "source": [
    "## Deutsch-Jozsa Algorithm"
   ]
  },
  {
   "cell_type": "code",
   "execution_count": 33,
   "metadata": {},
   "outputs": [],
   "source": [
    "import numpy as np "
   ]
  },
  {
   "cell_type": "code",
   "execution_count": 51,
   "metadata": {},
   "outputs": [
    {
     "data": {
      "image/png": "[encoded data removed]",
      "text/plain": [
       "<Figure size 203.885x367.889 with 1 Axes>"
      ]
     },
     "metadata": {},
     "output_type": "display_data"
    }
   ],
   "source": [
    "def dj_function(num_qubits): \n",
    "\n",
    "    qc = QuantumCircuit(num_qubits + 1)\n",
    "\n",
    "    if np.random.randint(0, 2): \n",
    "        qc.x(num_qubits)\n",
    "    if np.random.randint(0, 2): \n",
    "        return qc\n",
    "    \n",
    "    on_states = np.random.choice(\n",
    "        range(2**num_qubits), \n",
    "        2**num_qubits // 2, \n",
    "        replace = False\n",
    "    )\n",
    "\n",
    "    def add_cx(qc, bit_string): \n",
    "        for qubit, bit in enumerate(reversed(bit_string)): \n",
    "            if bit == '1': \n",
    "                qc.x(qubit)\n",
    "        return qc \n",
    "    \n",
    "    for state in on_states: \n",
    "        qc.barrier()\n",
    "        qc = add_cx(qc, f'{state:0b}')\n",
    "        qc.mcx(list(range(num_qubits)), num_qubits)\n",
    "        qc = add_cx(qc, f'{state:0b}')\n",
    "\n",
    "    qc.barrier()\n",
    "    \n",
    "    return qc\n",
    "\n",
    "display(dj_function(3).draw('mpl'))"
   ]
  },
  {
   "cell_type": "code",
   "execution_count": 53,
   "metadata": {},
   "outputs": [],
   "source": [
    "def compile_circuit(function: QuantumCircuit):\n",
    "    \n",
    "    n = function.num_qubits - 1\n",
    "    qc = QuantumCircuit(n + 1, n)\n",
    "    qc.x(n)\n",
    "    qc.h(range(n + 1))\n",
    "    qc.compose(function, inplace=True)\n",
    "    qc.h(range(n))\n",
    "    qc.measure(range(n), range(n))\n",
    "\n",
    "    return qc\n",
    "\n",
    "def dj_algorithm(function: QuantumCircuit):\n",
    "\n",
    "    qc = compile_circuit(function)\n",
    "\n",
    "    result = AerSimulator().run(qc, shots=1, memory=True).result()\n",
    "    measurements = result.get_memory()\n",
    "    \n",
    "    if \"1\" in measurements[0]:\n",
    "        return \"balanced\"\n",
    "    return \"constant\""
   ]
  },
  {
   "cell_type": "code",
   "execution_count": 65,
   "metadata": {},
   "outputs": [
    {
     "data": {
      "text/html": [
       "<pre style=\"word-wrap: normal;white-space: pre;background: #fff0;line-height: 1.1;font-family: &quot;Courier New&quot;,Courier,monospace\">      ░       ░ ┌───┐     ┌───┐ ░ ┌───┐     ┌───┐ ░                 ░ \n",
       "q_0: ─░───■───░─┤ X ├──■──┤ X ├─░─┤ X ├──■──┤ X ├─░────────■────────░─\n",
       "      ░   │   ░ └───┘  │  └───┘ ░ ├───┤  │  ├───┤ ░ ┌───┐  │  ┌───┐ ░ \n",
       "q_1: ─░───■───░────────■────────░─┤ X ├──■──┤ X ├─░─┤ X ├──■──┤ X ├─░─\n",
       "      ░   │   ░        │        ░ ├───┤  │  ├───┤ ░ ├───┤  │  ├───┤ ░ \n",
       "q_2: ─░───■───░────────■────────░─┤ X ├──■──┤ X ├─░─┤ X ├──■──┤ X ├─░─\n",
       "      ░ ┌─┴─┐ ░      ┌─┴─┐      ░ └───┘┌─┴─┐└───┘ ░ └───┘┌─┴─┐└───┘ ░ \n",
       "q_3: ─░─┤ X ├─░──────┤ X ├──────░──────┤ X ├──────░──────┤ X ├──────░─\n",
       "      ░ └───┘ ░      └───┘      ░      └───┘      ░      └───┘      ░ </pre>"
      ],
      "text/plain": [
       "      ░       ░ ┌───┐     ┌───┐ ░ ┌───┐     ┌───┐ ░                 ░ \n",
       "q_0: ─░───■───░─┤ X ├──■──┤ X ├─░─┤ X ├──■──┤ X ├─░────────■────────░─\n",
       "      ░   │   ░ └───┘  │  └───┘ ░ ├───┤  │  ├───┤ ░ ┌───┐  │  ┌───┐ ░ \n",
       "q_1: ─░───■───░────────■────────░─┤ X ├──■──┤ X ├─░─┤ X ├──■──┤ X ├─░─\n",
       "      ░   │   ░        │        ░ ├───┤  │  ├───┤ ░ ├───┤  │  ├───┤ ░ \n",
       "q_2: ─░───■───░────────■────────░─┤ X ├──■──┤ X ├─░─┤ X ├──■──┤ X ├─░─\n",
       "      ░ ┌─┴─┐ ░      ┌─┴─┐      ░ └───┘┌─┴─┐└───┘ ░ └───┘┌─┴─┐└───┘ ░ \n",
       "q_3: ─░─┤ X ├─░──────┤ X ├──────░──────┤ X ├──────░──────┤ X ├──────░─\n",
       "      ░ └───┘ ░      └───┘      ░      └───┘      ░      └───┘      ░ "
      ]
     },
     "metadata": {},
     "output_type": "display_data"
    },
    {
     "data": {
      "text/plain": [
       "'balanced'"
      ]
     },
     "metadata": {},
     "output_type": "display_data"
    }
   ],
   "source": [
    "f = dj_function(3)\n",
    "display(f.draw())\n",
    "display(dj_algorithm(f))"
   ]
  },
  {
   "cell_type": "code",
   "execution_count": null,
   "metadata": {},
   "outputs": [],
   "source": []
  }
 ],
 "metadata": {
  "kernelspec": {
   "display_name": "base",
   "language": "python",
   "name": "python3"
  },
  "language_info": {
   "codemirror_mode": {
    "name": "ipython",
    "version": 3
   },
   "file_extension": ".py",
   "mimetype": "text/x-python",
   "name": "python",
   "nbconvert_exporter": "python",
   "pygments_lexer": "ipython3",
   "version": "3.12.2"
  }
 },
 "nbformat": 4,
 "nbformat_minor": 2
}
