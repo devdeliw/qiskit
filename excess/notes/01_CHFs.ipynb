{
 "cells": [
  {
   "cell_type": "markdown",
   "metadata": {},
   "source": [
    "## Cryptographic Hash Functions"
   ]
  },
  {
   "cell_type": "markdown",
   "metadata": {},
   "source": [
    "A useful CHF should satisfy the following key properties: \n",
    "- Uniformity: the outputs, or *digests* produced by a CHF should look random \n",
    "- Determinism: a CHF must be deterministic, producing the same output for the same input\n",
    "- Irreversibility: a CHF is a *one-way function*. It should be infeasible to try and invert the hashing\n",
    "- Approximate injectivity: tiny changes in the input should lead to widly divergent digests\n",
    "\n",
    "Since the CHF outputs do not reveal the actual contents of the original data, they enable validation while preserving privacy. "
   ]
  },
  {
   "cell_type": "markdown",
   "metadata": {},
   "source": [
    "### Example of CHF in Python with SHA-256"
   ]
  },
  {
   "cell_type": "code",
   "execution_count": 1,
   "metadata": {},
   "outputs": [
    {
     "name": "stdout",
     "output_type": "stream",
     "text": [
      "The two messages differ by 1 characters\n"
     ]
    }
   ],
   "source": [
    "# Begin by importing some necessary modules\n",
    "from cryptography.hazmat.backends import default_backend\n",
    "from cryptography.hazmat.primitives import hashes\n",
    "\n",
    "#Helper function that returns the number of characters different in two strings\n",
    "def char_diff(str1, str2):\n",
    "    return sum ( str1[i] != str2[i] for i in range(len(str1)) )\n",
    "\n",
    "# Messages to be hashed\n",
    "message_1 = b\"Buy 10000 shares of WXYZ stock now!\"\n",
    "message_2 = b\"Buy 10000 shares of VXYZ stock now!\"\n",
    "\n",
    "print(f\"The two messages differ by { char_diff(message_1, message_2)} characters\")"
   ]
  },
  {
   "cell_type": "code",
   "execution_count": 2,
   "metadata": {},
   "outputs": [
    {
     "name": "stdout",
     "output_type": "stream",
     "text": [
      "digest-1: 6e0e6261b7131bd80ffdb2a4d42f9d042636350e45e184b92fcbcc9646eaf1e7\n",
      "digest-2: 6b0abb368c3a1730f935b68105e3f3ae7fd43d7e786d3ed3503dbb45c74ada46\n",
      "The two digests differ by 57 characters\n"
     ]
    }
   ],
   "source": [
    "# Create new SHA-256 hash objects, one for each message\n",
    "chf_1 = hashes.Hash(hashes.SHA256(), backend=default_backend())\n",
    "chf_2 = hashes.Hash(hashes.SHA256(), backend=default_backend())\n",
    "\n",
    "# Update each hash object with the bytes of the corresponding message\n",
    "chf_1.update(message_1)\n",
    "chf_2.update(message_2)\n",
    "\n",
    "# Finalize the hash process and obtain the digests\n",
    "digest_1 = chf_1.finalize()\n",
    "digest_2 = chf_2.finalize()\n",
    "\n",
    "#Convert the resulting hash to hexadecimal strings for convenient printing\n",
    "digest_1_str = digest_1.hex()\n",
    "digest_2_str = digest_2.hex()\n",
    "\n",
    "#Print out the digests as strings \n",
    "print(f\"digest-1: {digest_1_str}\")\n",
    "print(f\"digest-2: {digest_2_str}\")\n",
    "\n",
    "print(f\"The two digests differ by { char_diff(digest_1_str, digest_2_str)} characters\")"
   ]
  },
  {
   "cell_type": "markdown",
   "metadata": {},
   "source": [
    "Even though the two messages only differed by 1 character, after SHA-256 they differ by 57. \n",
    "\n",
    "The security of a CHF is typically assessed based on resistance to two types of attacks: \n",
    "\n",
    "#### 1. Pre-Image Resistance\n",
    "\n",
    "Given a digest, it should be *infeasible* to find the input. A good CHF is designed such that attackers get forced to use a brute force approach, with time complexity $2^n$ \n",
    "\n",
    "#### 2. Collision Resistance\n",
    "\n",
    "It must be difficult to find two different inputs that hash to the same digest. A *cryptographic has collision* occurs when two inputs hash to the same digest. While collisions inevitable exist given the many-to-one nature of CHFs, a good CHF makes it infeasible to locate one at will. \n",
    "\n",
    "This prevents any forgeries that hash to the same value, bypassing in-place security measures. \n",
    "\n",
    "Collision resistance is a harder requirement than pre-image resistance and necessitates output lengths twice as long as that needed for pre-image resistance. This is because of the brute force attack known as the ***birthday attack*** which can be used to identity hash collisions has time complexity $2^{n/2}$. \n",
    "\n",
    "Thus, the security of a hash function is primarily influenced by its hash length. *The longer the hash, the more secure it is.*\n",
    "\n"
   ]
  },
  {
   "cell_type": "markdown",
   "metadata": {},
   "source": []
  }
 ],
 "metadata": {
  "kernelspec": {
   "display_name": "base",
   "language": "python",
   "name": "python3"
  },
  "language_info": {
   "codemirror_mode": {
    "name": "ipython",
    "version": 3
   },
   "file_extension": ".py",
   "mimetype": "text/x-python",
   "name": "python",
   "nbconvert_exporter": "python",
   "pygments_lexer": "ipython3",
   "version": "3.12.2"
  }
 },
 "nbformat": 4,
 "nbformat_minor": 2
}
