{
 "cells": [
  {
   "cell_type": "markdown",
   "id": "4c2b8637-bcc7-419d-b459-0fc07b77b180",
   "metadata": {},
   "source": [
    "## Multi-Qubit Quantum Gates / Operators\n",
    "\n",
    "Now that we know how to work with single-qubit gates we move on to multi-qubit operators which act on more than one qubit/statevector. \n",
    "\n",
    "Remember a multi-qubit state $$|XY\\rangle$$ is the tensor product\n",
    "\n",
    "$$ |XY\\rangle = |X\\rangle \\otimes |Y\\rangle = |X\\rangle|Y\\rangle$$\n",
    "\n",
    "---\n",
    "\n",
    "### SWAP \n",
    "$$ \\text{SWAP} |a\\rangle |b\\rangle = |b\\rangle |a\\rangle $$\n",
    "\n",
    "It's matrix representation \n",
    "\n",
    "$$ \\text{SWAP} \\equiv \\begin{pmatrix} 1 & 0 & 0 & 0 \\\\ 0 & 0 & 1 & 0 \\\\ 0 & 1 & 0 & 0 \\\\ 0 & 0 & 0 & 1 \\end{pmatrix} $$\n",
    "\n",
    "### Controlled Operations\n",
    "\n",
    "A controlled $U$ operator performs an action on a **target** qubit depending on the state of a **control** qubit. \n",
    "\n",
    "When dealing with the computational basis of $|0\\rangle$ and $|1\\rangle$ that defines each statevector, a controlled $U$ operation takes the form \n",
    "\n",
    "$$ CU = |0\\rangle \\langle 0| \\otimes I_R + |1\\rangle\\langle 1| \\otimes U $$\n",
    "\n",
    "To make this idea clearer, let's discuss the CNOT gate. \n",
    "\n",
    "#### CX / CNOT\n",
    "\n",
    "The action of a CNOT gate flips the target qubit if the control qubit is in the state $|1\\rangle$ and leaves the target qubit alone if the control qubit is $|0\\rangle$. To put it cleanly, \n",
    "\n",
    "| Before | After |\n",
    "| :------: | :-----: |\n",
    "| Control /  Target | Control / Target |\n",
    "| $|0\\rangle$   /   $|0\\rangle$ | $|0\\rangle$ / $|0\\rangle$ |\n",
    "| $|0\\rangle$   /   $|1\\rangle$ | $|0\\rangle$ / $|1\\rangle$ |\n",
    "| $|1\\rangle$   /   $|0\\rangle$ | $|1\\rangle$ / $|1\\rangle$ |\n",
    "| $|1\\rangle$   /   $|1\\rangle$ | $|1\\rangle$ / $|0\\rangle$ |\n",
    "\n",
    "It leaves the control qubit alone regardless. In matrix representation \n",
    "\n",
    "$$ CNOT = \\begin{pmatrix} 1 & 0 & 0 & 0 \\\\ 0 & 1 & 0 & 0 \\\\ 0 & 0 & 0 & 1 \\\\ 0 & 0 & 1 & 0 \\end{pmatrix} $$\n",
    "\n",
    "We can perform Controlled Operations using any single or even multi-qubit gate, and also make the control qubit a control multi-qubit system instead. \n",
    "\n",
    "We can also make the control qubit a two-qubit system but the target qubit only a single qubit. For example the CCNOT (controlled-controlled NOT) gate, also known as the Toffoli Gate -- a CNOT gate with *2* control qubits and *1* target qubit. That is, the target qubit gets inverted if and only if *both* control qubits are in the state $|1\\rangle$. \n",
    "\n",
    "---\n",
    "\n",
    "#### Tensor Products\n",
    "\n",
    "Let's create the multi-qubit statevector $|01\\rangle$ as a tensor product from $|0\\rangle \\otimes |1\\rangle$. "
   ]
  },
  {
   "cell_type": "code",
   "execution_count": 4,
   "id": "9953cca0-06f8-4cb7-b1fd-a35acfa41350",
   "metadata": {},
   "outputs": [
    {
     "data": {
      "text/latex": [
       "$$ |01\\rangle$$"
      ],
      "text/plain": [
       "<IPython.core.display.Latex object>"
      ]
     },
     "execution_count": 4,
     "metadata": {},
     "output_type": "execute_result"
    }
   ],
   "source": [
    "from qiskit.quantum_info import Statevector\n",
    "from numpy import sqrt\n",
    "\n",
    "zero, one = Statevector.from_label(\"0\"), Statevector.from_label(\"1\")\n",
    "zero.tensor(one).draw(\"latex\")"
   ]
  },
  {
   "cell_type": "markdown",
   "id": "f544d5a4-2b20-4cbb-a4c4-72810ef45d81",
   "metadata": {},
   "source": [
    "Let's create the vectors representing the states $|+\\rangle$ and $\\frac{1}{\\sqrt{2}}(|0\\rangle + i|1\\rangle)$ states and combine them to form a new state vector $|\\psi\\rangle$. "
   ]
  },
  {
   "cell_type": "code",
   "execution_count": 5,
   "id": "c8e6276e-2a2e-4f21-bce5-6a377ee8acb1",
   "metadata": {},
   "outputs": [
    {
     "data": {
      "text/latex": [
       "$$\\frac{1}{2} |00\\rangle+\\frac{i}{2} |01\\rangle+\\frac{1}{2} |10\\rangle+\\frac{i}{2} |11\\rangle$$"
      ],
      "text/plain": [
       "<IPython.core.display.Latex object>"
      ]
     },
     "execution_count": 5,
     "metadata": {},
     "output_type": "execute_result"
    }
   ],
   "source": [
    "plus = Statevector.from_label(\"+\")\n",
    "i_state = Statevector([1/sqrt(2), 1j/sqrt(2)])\n",
    "\n",
    "psi = plus.tensor(i_state)\n",
    "psi.draw(\"latex\")"
   ]
  },
  {
   "cell_type": "markdown",
   "id": "3ab4a606-8bca-48ad-ac45-4f584fbf8ffe",
   "metadata": {},
   "source": [
    "We can also take the tensor product of operators. The tensor product $C$ of the operators $C = X \\otimes Y$ is an operator that can act on simultaneously on the 2 qubit system that is equivalent  to applying $X$ on the first qubit and $Y$ on the second and taking the tensor product after. \n",
    "\n",
    "To put it cleanly, the following circuit: "
   ]
  },
  {
   "cell_type": "code",
   "execution_count": 7,
   "id": "75438b9b-98ac-4168-bb2f-5c8615e52727",
   "metadata": {},
   "outputs": [
    {
     "data": {
      "text/html": [
       "<pre style=\"word-wrap: normal;white-space: pre;background: #fff0;line-height: 1.1;font-family: &quot;Courier New&quot;,Courier,monospace\">     ┌───┐\n",
       "q_0: ┤ X ├\n",
       "     ├───┤\n",
       "q_1: ┤ Y ├\n",
       "     └───┘</pre>"
      ],
      "text/plain": [
       "     ┌───┐\n",
       "q_0: ┤ X ├\n",
       "     ├───┤\n",
       "q_1: ┤ Y ├\n",
       "     └───┘"
      ]
     },
     "metadata": {},
     "output_type": "display_data"
    }
   ],
   "source": [
    "from qiskit import QuantumCircuit\n",
    "\n",
    "circuit = QuantumCircuit(2)\n",
    "\n",
    "circuit.x(0)\n",
    "circuit.y(1) \n",
    "display(circuit.draw())"
   ]
  },
  {
   "cell_type": "markdown",
   "id": "1db17199-d330-481d-a442-3f922968511d",
   "metadata": {},
   "source": [
    "is the same as applying the $C = X \\otimes Y$ gate on the tensor product between both `q_0` and `q_1`. \n",
    "\n",
    "We can generate tensor products between operators in a similar fashion as for statevectors."
   ]
  },
  {
   "cell_type": "code",
   "execution_count": 10,
   "id": "41d71ea6-1607-4272-be2a-b700c750f51a",
   "metadata": {},
   "outputs": [
    {
     "name": "stdout",
     "output_type": "stream",
     "text": [
      "Operator([[0.+0.j, 0.-0.j, 0.+0.j, 0.-1.j],\n",
      "          [0.+0.j, 0.+0.j, 0.+1.j, 0.+0.j],\n",
      "          [0.+0.j, 0.-1.j, 0.+0.j, 0.-0.j],\n",
      "          [0.+1.j, 0.+0.j, 0.+0.j, 0.+0.j]],\n",
      "         input_dims=(2, 2), output_dims=(2, 2))\n"
     ]
    }
   ],
   "source": [
    "from qiskit.quantum_info import Operator\n",
    "\n",
    "X = Operator([[0, 1], [1, 0]])\n",
    "Y = Operator([[0, -1j], [1j, 0]])\n",
    "\n",
    "C = X.tensor(Y)\n",
    "print(C)"
   ]
  },
  {
   "cell_type": "markdown",
   "id": "6d1aba8a-8645-46cf-bcba-cf2c15e9c06c",
   "metadata": {},
   "source": [
    "Let's show that applying $X$ on qubit $|0\\rangle$ and $Y$ on qubit $|1\\rangle$ is the same as applying $C = X \\otimes Y$ to $|01\\rangle = |0\\rangle \\otimes |1\\rangle$. "
   ]
  },
  {
   "cell_type": "code",
   "execution_count": 11,
   "id": "2d7618b9-b5aa-48a2-907b-56167e849936",
   "metadata": {},
   "outputs": [
    {
     "name": "stdout",
     "output_type": "stream",
     "text": [
      "X|0> ⊗ Y|1> \n"
     ]
    },
    {
     "data": {
      "text/latex": [
       "$$- i |10\\rangle$$"
      ],
      "text/plain": [
       "<IPython.core.display.Latex object>"
      ]
     },
     "metadata": {},
     "output_type": "display_data"
    },
    {
     "name": "stdout",
     "output_type": "stream",
     "text": [
      "(X ⊗ Y)|01>\n"
     ]
    },
    {
     "data": {
      "text/latex": [
       "$$- i |10\\rangle$$"
      ],
      "text/plain": [
       "<IPython.core.display.Latex object>"
      ]
     },
     "metadata": {},
     "output_type": "display_data"
    }
   ],
   "source": [
    "ket0 = Statevector([1, 0])\n",
    "ket1 = Statevector([0, 1])\n",
    "ket_combined = ket0.tensor(ket1)\n",
    "\n",
    "# individually applying X and Y to |0> and |1> separately\n",
    "ket0f = ket0.evolve(X)\n",
    "ket1f = ket1.evolve(Y)\n",
    "ket_combinedf = ket0f.tensor(ket1f) \n",
    "\n",
    "print(\"X|0> ⊗ Y|1> \")\n",
    "display(ket_combinedf.draw(\"latex\"))\n",
    "\n",
    "# applying combined operator to both, \n",
    "# redefining ket_combinedf using ket_combined \n",
    "ket_combinedf = ket_combined.evolve(X ^ Y) # X ^ Y = X ⊗ Y = C\n",
    "\n",
    "print(\"(X ⊗ Y)|01>\")\n",
    "display(ket_combinedf.draw(\"latex\"))"
   ]
  },
  {
   "cell_type": "markdown",
   "id": "898c635d-3c2e-495c-912e-605688d8b978",
   "metadata": {},
   "source": [
    "They're the same! Let's go back to the $|\\psi\\rangle$ vector we defined earlier, "
   ]
  },
  {
   "cell_type": "code",
   "execution_count": 12,
   "id": "9ea3cd85-6460-4b3d-b8af-4773e497ccc0",
   "metadata": {},
   "outputs": [
    {
     "data": {
      "text/latex": [
       "$$\\frac{1}{2} |00\\rangle+\\frac{i}{2} |01\\rangle+\\frac{1}{2} |10\\rangle+\\frac{i}{2} |11\\rangle$$"
      ],
      "text/plain": [
       "<IPython.core.display.Latex object>"
      ]
     },
     "execution_count": 12,
     "metadata": {},
     "output_type": "execute_result"
    }
   ],
   "source": [
    "psi.draw(\"latex\")"
   ]
  },
  {
   "cell_type": "markdown",
   "id": "8da85d69-0cc7-4fb9-8452-38f43e36a147",
   "metadata": {},
   "source": [
    "Let's create a CNOT operator and calculate CNOT$|\\psi\\rangle$, or $CX|\\psi\\rangle$"
   ]
  },
  {
   "cell_type": "code",
   "execution_count": 13,
   "id": "e8de3938-34a2-49d9-871d-3126b716e53f",
   "metadata": {},
   "outputs": [
    {
     "data": {
      "text/latex": [
       "$$\\frac{1}{2} |00\\rangle+\\frac{i}{2} |01\\rangle+\\frac{i}{2} |10\\rangle+\\frac{1}{2} |11\\rangle$$"
      ],
      "text/plain": [
       "<IPython.core.display.Latex object>"
      ]
     },
     "execution_count": 13,
     "metadata": {},
     "output_type": "execute_result"
    }
   ],
   "source": [
    "CX = Operator(\n",
    "    [\n",
    "        [1, 0, 0, 0], \n",
    "        [0, 1, 0, 0], \n",
    "        [0, 0, 0, 1],\n",
    "        [0, 0, 1, 0], \n",
    "    ]\n",
    ")\n",
    "\n",
    "psi.evolve(CX).draw(\"latex\")"
   ]
  },
  {
   "cell_type": "markdown",
   "id": "c4ad44ba-5eb6-4151-a466-e7481e1d5e7f",
   "metadata": {},
   "source": [
    "Compare the coefficients of the $|10\\rangle$ and $|11\\rangle$ states.\n",
    "\n",
    "---\n",
    "\n",
    "### Partial Measurements\n",
    "\n",
    "In the previous chapter, we used the `measure` method to simulate a measurement of a quantum statevector. This method returned the measured eigenvalue, and the resultant collapsed statevector post-measurement. \n",
    "\n",
    "By default, `measure` measures all qubits in the statevector, but we can provide a list of integers to *only* measure the qubits *at* those indices. To demonstrate, the cell below creates the state \n",
    "\n",
    "$$ W = \\frac{1}{\\sqrt{3}} ( |001\\rangle + |010\\rangle + |100\\rangle). $$"
   ]
  },
  {
   "cell_type": "code",
   "execution_count": 15,
   "id": "abc1f2ad-6a94-40e9-bbbb-3e04e6fa8e4f",
   "metadata": {},
   "outputs": [
    {
     "data": {
      "text/latex": [
       "$$\\frac{\\sqrt{3}}{3} |001\\rangle+\\frac{\\sqrt{3}}{3} |010\\rangle+\\frac{\\sqrt{3}}{3} |100\\rangle$$"
      ],
      "text/plain": [
       "<IPython.core.display.Latex object>"
      ]
     },
     "execution_count": 15,
     "metadata": {},
     "output_type": "execute_result"
    }
   ],
   "source": [
    "W = Statevector([0, 1, 1, 0, 1, 0, 0, 0] / sqrt(3))\n",
    "W.draw(\"latex\")"
   ]
  },
  {
   "cell_type": "markdown",
   "id": "410edc33-e7b0-45bf-afbb-8fa9a63489fa",
   "metadata": {},
   "source": [
    "If you are confused how the above state was generated using `Statevector`, each indicy of 0 or 1 indicates which of the possible 3-qubit states we define: \n",
    "\n",
    "- $|000\\rangle$ (index 0)\n",
    "- $|001\\rangle$ (index 1)\n",
    "- $|010\\rangle$ (index 2)\n",
    "- $|011\\rangle$ (index 3)\n",
    "- $|100\\rangle$ (index 4)\n",
    "- $\\vdots$ $\\vdots$\n",
    "\n",
    "As you can see, where each of these indices have a 1, defines which 3-qubits state we have. The above statevector $W$ has a 1 in index 1, 2, and 4. \n",
    "\n",
    "Let's simulate a measurement on the **rightmost** qubit (which has index 0) -- the opposite of normal convention (I don't know why, but there's probably a reason). "
   ]
  },
  {
   "cell_type": "code",
   "execution_count": 17,
   "id": "e4276de6-05e3-41e9-919f-0d36343321e0",
   "metadata": {},
   "outputs": [
    {
     "name": "stdout",
     "output_type": "stream",
     "text": [
      "Measured: 0\n",
      "State after measurement:\n"
     ]
    },
    {
     "data": {
      "text/latex": [
       "$$\\frac{\\sqrt{2}}{2} |010\\rangle+\\frac{\\sqrt{2}}{2} |100\\rangle$$"
      ],
      "text/plain": [
       "<IPython.core.display.Latex object>"
      ]
     },
     "execution_count": 17,
     "metadata": {},
     "output_type": "execute_result"
    }
   ],
   "source": [
    "eigenvalue, new_statevector = W.measure([0]) # measure qubit 0\n",
    "\n",
    "print(f\"Measured: {eigenvalue}\\nState after measurement:\")\n",
    "new_statevector.draw(\"latex\")"
   ]
  },
  {
   "cell_type": "markdown",
   "id": "75797bba-93ea-4d1d-8bd0-5556f0f690dc",
   "metadata": {},
   "source": [
    "Run the above cell a few times to see different results. Notice that measuring a `1` means we know both the other qubits are $|0\\rangle$, but measuring a `0` means the remaining two qubits are in the state $$ \\frac{1}{\\sqrt{2}}(|01\\rangle + |10\\rangle). $$\n",
    "\n",
    "---"
   ]
  }
 ],
 "metadata": {
  "kernelspec": {
   "display_name": "Python 3 (ipykernel)",
   "language": "python",
   "name": "python3"
  },
  "language_info": {
   "codemirror_mode": {
    "name": "ipython",
    "version": 3
   },
   "file_extension": ".py",
   "mimetype": "text/x-python",
   "name": "python",
   "nbconvert_exporter": "python",
   "pygments_lexer": "ipython3",
   "version": "3.11.6"
  }
 },
 "nbformat": 4,
 "nbformat_minor": 5
}
