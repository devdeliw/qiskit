{
 "cells": [
  {
   "cell_type": "code",
   "execution_count": 10,
   "metadata": {},
   "outputs": [
    {
     "name": "stdout",
     "output_type": "stream",
     "text": [
      "Original statevector:\n",
      " Statevector([0.+0.j, 0.+0.j, 1.+0.j, 0.+0.j],\n",
      "            dims=(2, 2))\n",
      "Statevector after applying the circuit:\n",
      " Statevector([-0.06777368+0.05808205j, -0.05671414-0.13269617j,\n",
      "             -0.00807726+0.51833761j, -0.79552748-0.26382824j],\n",
      "            dims=(2, 2))\n",
      "Statevector after applying the inverse circuit:\n",
      " Statevector([-7.90818917e-17-3.54993770e-17j,\n",
      "              1.30353138e-17+4.43271936e-18j,\n",
      "             -9.49164547e-01+3.14780340e-01j,\n",
      "             -1.47176342e-16-5.34546027e-17j],\n",
      "            dims=(2, 2))\n",
      "Are the original and final statevectors the same?: False\n",
      "Statevector([ 7.50298678e-17+7.36466253e-17j,\n",
      "              7.42132276e-17-2.77931623e-17j,\n",
      "              1.00000000e+00-1.09022815e-16j,\n",
      "             -1.12691791e-18-5.24636915e-17j],\n",
      "            dims=(2, 2))\n",
      "Statevector([-7.90818917e-17-3.54993770e-17j,\n",
      "              1.30353138e-17+4.43271936e-18j,\n",
      "             -9.49164547e-01+3.14780340e-01j,\n",
      "             -1.47176342e-16-5.34546027e-17j],\n",
      "            dims=(2, 2))\n"
     ]
    }
   ],
   "source": [
    "from qiskit import QuantumCircuit\n",
    "from qiskit.circuit.random import random_circuit\n",
    "from qiskit_aer import AerSimulator\n",
    "from qiskit.compiler import transpile\n",
    "from qiskit.quantum_info import Statevector, DensityMatrix\n",
    "import numpy as np\n",
    "\n",
    "# Function to get the inverse of the circuit\n",
    "def get_inverse_circuit(circuit):\n",
    "    inverse_circuit = circuit.inverse()\n",
    "    return inverse_circuit\n",
    "\n",
    "# Create the full circuit with two qubits\n",
    "qc_full_0 = random_circuit(1, depth = 5, seed = 599047543)\n",
    "qc_full_1 = random_circuit(1, depth = 5, seed = 2513142990)\n",
    "\n",
    "qc_full = QuantumCircuit(2)\n",
    "\n",
    "qc_full = qc_full.compose(qc_full_0, [0])\n",
    "qc_full = qc_full.compose(qc_full_1, [1])\n",
    "\n",
    "# Initialize the state |01>\n",
    "zero = Statevector.from_label(\"0\")\n",
    "one = Statevector.from_label(\"1\")\n",
    "zeroone = one.tensor(zero)\n",
    "\n",
    "# Simulate the full circuit to get the statevector\n",
    "statevector_combined = zeroone.evolve(qc_full)\n",
    "\n",
    "# Convert the statevector to density matrix\n",
    "density_matrix = DensityMatrix(statevector_combined)\n",
    "statevec_final = density_matrix.to_statevector()\n",
    "\n",
    "# Get the inverse circuit\n",
    "inverse_circuit = get_inverse_circuit(qc_full)\n",
    "\n",
    "# Apply the inverse circuit to the density matrix\n",
    "statevector_after_inverse = statevec_final.evolve(inverse_circuit)\n",
    "\n",
    "# Print the results\n",
    "print(\"Original statevector:\\n\", zeroone)\n",
    "print(\"Statevector after applying the circuit:\\n\", statevector_combined)\n",
    "print(\"Statevector after applying the inverse circuit:\\n\", statevector_after_inverse)\n",
    "\n",
    "# Check if the original statevector matches the statevector after applying the inverse circuit\n",
    "print(\"Are the original and final statevectors the same?:\", np.allclose(zeroone, statevector_after_inverse.data))\n",
    "\n",
    "print(statevector_combined.evolve(inverse_circuit))\n",
    "print(statevec_final.evolve(inverse_circuit))"
   ]
  },
  {
   "cell_type": "code",
   "execution_count": null,
   "metadata": {},
   "outputs": [],
   "source": []
  }
 ],
 "metadata": {
  "kernelspec": {
   "display_name": "base",
   "language": "python",
   "name": "python3"
  },
  "language_info": {
   "codemirror_mode": {
    "name": "ipython",
    "version": 3
   },
   "file_extension": ".py",
   "mimetype": "text/x-python",
   "name": "python",
   "nbconvert_exporter": "python",
   "pygments_lexer": "ipython3",
   "version": "3.12.2"
  }
 },
 "nbformat": 4,
 "nbformat_minor": 2
}
