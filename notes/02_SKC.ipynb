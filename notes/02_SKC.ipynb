{
 "cells": [
  {
   "cell_type": "markdown",
   "metadata": {},
   "source": [
    "## Symmetric Key Cryptography"
   ]
  },
  {
   "cell_type": "markdown",
   "metadata": {},
   "source": [
    "*SKC* is the most intuitive form of cryptography. With SKC, confidential information is secured via symmetric key encryption (SKE), that is, by using a *single secret key* for both encryption and decryption. \n",
    "\n",
    "SKC involves: \n",
    "- an encryption function that converts a given plain text to a *ciphertext* while utilizing a secret key\n",
    "- a decryption function that inverts the operation by converting the ciphertext back to plain text using the same secret key\n",
    "\n",
    "\n",
    "### Properties of Symmetric Key Cryptosystems\n",
    "\n",
    "A symmetric key cryptosystem ensures the following properties: \n",
    "\n",
    "- Confidentiality: refers to the property that the information content of the encrypted messages is protected from unauthorized access\n",
    "- Integrity; refers to the property that any tampering of encryptd messages during storage or transmission can be detected\n",
    "- Authenticity: refers to the property that the receiver of a message can verify the identity of the sender\n",
    "\n",
    "These properties should be realized in a setting where the algorithms used for encryption + decryption may be public and where access to the information content of encrpyted messages is controlled exclusively through access to the secret key. \n",
    "\n",
    "#### Two Main Tasks\n",
    "\n",
    "1. Employing a robust symmetric key encryption algorithm resistant to cryptographic attacks \n",
    "2. Ensuring confidentiality in the distribution and management of secret keys"
   ]
  },
  {
   "cell_type": "markdown",
   "metadata": {},
   "source": [
    "## Advanced Encryption Standard (AES) Cipher"
   ]
  },
  {
   "cell_type": "code",
   "execution_count": 9,
   "metadata": {},
   "outputs": [
    {
     "name": "stdout",
     "output_type": "stream",
     "text": [
      "\n",
      "Given plaintext: this is a strict top secret message for intended recipients only\n"
     ]
    }
   ],
   "source": [
    "# Set the plaintext we want to encrypt\n",
    "plaintext=u\"this is a strict top secret message for intended recipients only\"\n",
    "print(f\"\\nGiven plaintext: {plaintext}\")"
   ]
  },
  {
   "cell_type": "markdown",
   "metadata": {},
   "source": [
    "We start by creating the key, in this case, a random 16-letter string. "
   ]
  },
  {
   "cell_type": "code",
   "execution_count": 6,
   "metadata": {},
   "outputs": [
    {
     "name": "stdout",
     "output_type": "stream",
     "text": [
      "AES secret key: nzhkhhqtklwvliak\n"
     ]
    }
   ],
   "source": [
    "from secretpy import Caesar\n",
    "from cryptography.hazmat.primitives.ciphers import Cipher, algorithms, modes\n",
    "from functools import reduce\n",
    "import numpy as np\n",
    "\n",
    "alphabet=('a', 'b', 'c', 'd', 'e', 'f', 'g', 'h', 'i', 'j', 'k', 'l', 'm', 'n', 'o', 'p', 'q', 'r', 's', 't', 'u', 'v', 'w', 'x', 'y', 'z', ' ')\n",
    "\n",
    "# lamba defines an inline function in this case that takes two values a,b with the resulting expression of a+b\n",
    "# reduce uses a two-argument function(above), and applies this to all the entries in the list (random alphabet characters) cumulatively\n",
    "aes_key = reduce(lambda a, b: a + b, [np.random.choice(alphabet) for i in range(16)])\n",
    "\n",
    "print(f'AES secret key: {aes_key}')"
   ]
  },
  {
   "cell_type": "markdown",
   "metadata": {},
   "source": [
    "AES supports multiple operating modes. We choose the *Cipher Block Chaining (CBC) mode*. This requires specifying a random *Initialization Vector (IV)* also called a *nonce*. "
   ]
  },
  {
   "cell_type": "code",
   "execution_count": 7,
   "metadata": {},
   "outputs": [
    {
     "name": "stdout",
     "output_type": "stream",
     "text": [
      "AES initialization vector: iconhzdtouysahoy\n"
     ]
    }
   ],
   "source": [
    "aes_initialization_vector = reduce(lambda a, b: a + b, [np.random.choice(alphabet) for i in range(16)])\n",
    "print(f\"AES initialization vector: {aes_initialization_vector}\")"
   ]
  },
  {
   "cell_type": "code",
   "execution_count": 10,
   "metadata": {},
   "outputs": [
    {
     "name": "stdout",
     "output_type": "stream",
     "text": [
      "Encrypted AES ciphertext: b\"w\\xd2\\x1e\\x80\\x11\\xe4B\\x89\\xe5R\\x9d\\x1eQ\\x12\\xfb\\x02\\xa7\\x92\\xc9T\\xfb\\x84\\xb3\\xf7\\x93!j{\\x9ayd\\xce\\xd9\\x85X\\x7f\\x1f\\xf0i\\xe9\\x89\\xd5\\x1bp\\xe3\\xb3\\xf5ry\\\\\\xc8\\x1e\\x97\\x87D\\n'\\x1c\\x9a\\x7f\\x81\\x8fB@\"\n"
     ]
    }
   ],
   "source": [
    "# The encryptor is setup using the key & CBC. In both cases we need to convert the string (utf-8) into bytes\n",
    "sender_aes_cipher = Cipher(algorithms.AES(bytes(aes_key, 'utf-8')), modes.CBC(bytes(aes_initialization_vector, 'utf-8')))\n",
    "aes_encryptor = sender_aes_cipher.encryptor()\n",
    "\n",
    "# update can add text to encypt in chunks, and then finalize is needed to complete the encryption process\n",
    "aes_ciphertext = aes_encryptor.update(bytes(plaintext, 'utf-8')) + aes_encryptor.finalize()\n",
    "\n",
    "# Note the output is a string of bytes\n",
    "print(f\"Encrypted AES ciphertext: {aes_ciphertext}\")"
   ]
  },
  {
   "cell_type": "markdown",
   "metadata": {},
   "source": [
    "To decrypt it, let's instantiant the AES cipher on behalf of the reciever. Note that the intended reciever has access to both the secret key and the initialization vector. But the latter doesn't have to be secret. "
   ]
  },
  {
   "cell_type": "code",
   "execution_count": 11,
   "metadata": {},
   "outputs": [
    {
     "name": "stdout",
     "output_type": "stream",
     "text": [
      "Decrypted AES plaintext: this is a strict top secret message for intended recipients only\n"
     ]
    }
   ],
   "source": [
    "# Similar setup of AES to what we did for encryption, but this time, for decryption\n",
    "receiver_aes_cipher = Cipher(algorithms.AES(bytes(aes_key, 'utf-8')), modes.CBC(bytes(aes_initialization_vector, 'utf-8')))\n",
    "aes_decryptor = receiver_aes_cipher.decryptor()\n",
    "\n",
    "# Do the decryption\n",
    "aes_plaintext_bytes = aes_decryptor.update(aes_ciphertext) + aes_decryptor.finalize()\n",
    "\n",
    "# convert back to a character string (we assume utf-8)\n",
    "aes_plaintext = aes_plaintext_bytes.decode('utf-8')\n",
    "\n",
    "print(f\"Decrypted AES plaintext: {aes_plaintext}\")"
   ]
  },
  {
   "cell_type": "markdown",
   "metadata": {},
   "source": [
    "#### Block Ciphers\n",
    "\n",
    "*Block Ciphers* like DES or AES -- achieve security by combining the principles of *confusion* and *diffusion*. \n",
    "\n",
    "- Confusion: The characteristic where each bit in the ciphertext depends on multiple bits of the secret key. It ensures that a small change in the secret key modifies almost all the bits of the cipher text. \n",
    "\n",
    "- Diffusion: The characteristic where flipping a single bit in the plain text should modify roughly half the bits in the cipher text and vice versa. Diffusion hides the statistical relationship between the message and the cipher text. Ciphers with adequate diffusion satisfy the *avalanche criteria* of cryptography. \n",
    "\n",
    "Block ciphers implement confusion diffusion using cryptographic structures known as *substitution-permutation networks (SPNs)* operating on discrete blocks of data. \n",
    "\n",
    "An SPN accepts a block of plain text and the secret key and performs a number of *rounds* of transformations to yield a ciphertext block. Each round is composed of alternating mathematical structures known as substitution boxes (S-boxes) and permutation boxes (P-boxes), or equivalent operations. \n",
    "\n",
    "These respectively implement complex nonlinear and linear transformations on the input blocks -- leading to the avalanche effect.\n",
    "\n",
    "#### Advantages of Symmetric Key Cryptopgraphy\n",
    "\n",
    "1. Speed & Efficiency: SKC algorithms are more suitable for larger volumes of data or fore real-time communication since they are generally less resource-intensive than asymmetric key encryption.\n",
    "\n",
    "2. Scalability: SKC algorithms, because of their low computational requirement, can scale well with the number of users and the amount of data being encrypted. \n",
    "\n",
    "3. Simplicity: They are easier to implement and understand relative to asymmetric approaches.\n",
    "\n",
    "\n",
    "#### Challenges of Symmetric Key Cryptopgraphy\n",
    "\n",
    "1. Key Distribution and Management: Both the sender and receiver of a message must have access to the same key, which must be kept confidential. \n",
    "\n",
    "2. Lack of non-repudiation: Non-repudiation refers to the abilitiy to prove that a specific party has sent a message. In SKC, since the same key is used for encryption and decryption, its not possible to determine which party created a specific cipher text. \n",
    "\n",
    "Asymmetric encryption solves non-repudiation via the use of *digital signatures*.\n"
   ]
  },
  {
   "cell_type": "markdown",
   "metadata": {},
   "source": [
    "### Quantum Computing & SKC: Risks and Mitigation\n",
    "\n",
    "#### Quantum Cryptographic Attacks\n",
    "\n",
    "There are two distinct classes of quantum threats to traditional cryptographic algorithms: \n",
    "\n",
    "1. Quantum **brute force** attacks: Where the attacker uses a quantum computer to execute a specialized quantum algorithm to conduct a brute force search through the key space of a symmetric cipher. Like **Grover's Algorithm**. \n",
    "\n",
    "2. Quantum **cryptanalytic** attacks: These refer to situations where quantum computers are deployed to execute cryptanalytic attacks that aim to recover either the secret key or plian text in a more efficient manner than brute force. \n",
    "\n",
    "#### Quantum Risk Mitigation\n",
    "\n",
    "Typically security level is expressed in bits. $N$-bit security means it requires $O(2^N)$ operations to break. For classical computers, the security level is roughly synonymous with the key length. \n",
    "\n",
    "##### Brute Force Attacks \n",
    "\n",
    "A quantum brute force attack changes the above assessment because Grover's algorithm enables an attacker with a suitable quantum computer to search the key space of a cipher quadratically faster than any classical computer.\n",
    "\n",
    "For instance breaking the $2^{128}$ bit encryption for AES-128 can be solved with just $2^{64}$ for a suitable quantum computer. A security level of 64 bits is already conventionally deemed insecure. \n",
    "\n",
    "The obvious way to mitigate brute force attacks is to double the minimum key lengths used for symmetric encryption. However this implies incredible additional computational cost for routine encryption decryption tasks, with slower performance, more memory requirement, and additinoal energy use. \n",
    "\n",
    "##### Cryptanalytic attacks and mitigation \n",
    "\n",
    "This is currently being actively researched. The combination of classical and quantum techniques of attack expands the array of tools available to attackers to probe weaknesses in the mathematical structure of ciphers."
   ]
  },
  {
   "cell_type": "markdown",
   "metadata": {},
   "source": []
  }
 ],
 "metadata": {
  "kernelspec": {
   "display_name": "base",
   "language": "python",
   "name": "python3"
  },
  "language_info": {
   "codemirror_mode": {
    "name": "ipython",
    "version": 3
   },
   "file_extension": ".py",
   "mimetype": "text/x-python",
   "name": "python",
   "nbconvert_exporter": "python",
   "pygments_lexer": "ipython3",
   "version": "3.12.2"
  }
 },
 "nbformat": 4,
 "nbformat_minor": 2
}
