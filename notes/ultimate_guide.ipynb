{
 "cells": [
  {
   "cell_type": "markdown",
   "id": "75fa3f10-a22f-4f58-8a3a-b8a71956a134",
   "metadata": {},
   "source": [
    "# Ultimate Guide for Qiskit"
   ]
  },
  {
   "cell_type": "markdown",
   "id": "7877b358-aa4b-40f2-afa4-4b832294cacd",
   "metadata": {},
   "source": [
    "### States, Measurements, & Operations \n",
    "\n",
    "#### Defining qubit wave functions / statevectors\n",
    "\n",
    "The `Statevector` class provides functionality for defining and manipulating quantum statevectors/wave functions. "
   ]
  },
  {
   "cell_type": "code",
   "execution_count": 1,
   "id": "fb6b4b23-ac28-4586-ba73-ae4a59d508a7",
   "metadata": {},
   "outputs": [],
   "source": [
    "import numpy as np\n",
    "from qiskit.quantum_info import Statevector\n",
    "from numpy import sqrt\n",
    "\n",
    "u = Statevector([1/sqrt(2), 1/sqrt(2)])\n",
    "v = Statevector([(1 + 2.0j)/3, -2/3])\n",
    "w = Statevector([1/3, 2/3])"
   ]
  },
  {
   "cell_type": "markdown",
   "id": "6b20b7b3-c73e-4f78-bf19-20518b0ece17",
   "metadata": {},
   "source": [
    "The `Statevector` class also provides a `draw` method for displaying statevectors in $\\LaTeX$ format (and text if you want). \n",
    "\n",
    "We can check if these statevectors are valid using the `is_valid` method. \n",
    "\n",
    "Remember, as the norm of components squared $|c_i|^2$ of the statevector represent the probabilities to yield the eigenvalue for the basis we define the statevectors in -- the probabilities $|c_i|^2$ for each eigenvalue must sum to one: $$\\sum_i |c_i|^2 = 1 $$ To put it simply, the Euclidean norm must equal 1. "
   ]
  },
  {
   "cell_type": "code",
   "execution_count": 419,
   "id": "d3f8d9b6-47b6-43bb-aece-f848cff2a71b",
   "metadata": {
    "editable": true,
    "slideshow": {
     "slide_type": ""
    },
    "tags": []
   },
   "outputs": [
    {
     "data": {
      "text/latex": [
       "$$\\frac{\\sqrt{2}}{2} |0\\rangle+\\frac{\\sqrt{2}}{2} |1\\rangle$$"
      ],
      "text/plain": [
       "<IPython.core.display.Latex object>"
      ]
     },
     "metadata": {},
     "output_type": "display_data"
    },
    {
     "data": {
      "text/latex": [
       "$$(\\frac{1}{3} + \\frac{2 i}{3}) |0\\rangle- \\frac{2}{3} |1\\rangle$$"
      ],
      "text/plain": [
       "<IPython.core.display.Latex object>"
      ]
     },
     "metadata": {},
     "output_type": "display_data"
    },
    {
     "name": "stdout",
     "output_type": "stream",
     "text": [
      "Statevector u is valid? True\n",
      "Statevector w is valid? False\n"
     ]
    }
   ],
   "source": [
    "display(u.draw(\"latex\"))\n",
    "display(v.draw(\"latex\"))\n",
    "\n",
    "print(f\"Statevector u is valid? {u.is_valid()}\")\n",
    "print(f\"Statevector w is valid? {w.is_valid()}\")"
   ]
  },
  {
   "cell_type": "markdown",
   "id": "f9dda6f4-a229-4cb4-b657-1398b4c53633",
   "metadata": {},
   "source": [
    "##### Simulating measurements using `Statevector`\n",
    "\n",
    "Using the `measure` method from the `Statevector` class is one way to measure quantum states in Qiskit. "
   ]
  },
  {
   "cell_type": "code",
   "execution_count": 420,
   "id": "189b63b7-7b82-4eeb-ba83-1d506869cd32",
   "metadata": {},
   "outputs": [
    {
     "data": {
      "text/latex": [
       "$$(\\frac{1}{3} + \\frac{2 i}{3}) |0\\rangle- \\frac{2}{3} |1\\rangle$$"
      ],
      "text/plain": [
       "<IPython.core.display.Latex object>"
      ]
     },
     "metadata": {},
     "output_type": "display_data"
    },
    {
     "data": {
      "text/plain": [
       "('0',\n",
       " Statevector([0.4472136+0.89442719j, 0.       +0.j        ],\n",
       "             dims=(2,)))"
      ]
     },
     "execution_count": 420,
     "metadata": {},
     "output_type": "execute_result"
    }
   ],
   "source": [
    "# creating qubit wave function & displaying it\n",
    "v = Statevector([(1 + 2.0j)/3, -2/3])\n",
    "display(v.draw(\"latex\"))\n",
    "\n",
    "# measuring\n",
    "v.measure()"
   ]
  },
  {
   "cell_type": "markdown",
   "id": "4fdff01b-5292-484f-9d4b-2044dcba877a",
   "metadata": {},
   "source": [
    "Note that as measurement is probabilistic, measuring the above wave function could yield different results. \n",
    "\n",
    "Upon measuring the qubit collapses into either $|0\\rangle$ or $|1\\rangle$, since we have been using the computational basis $\\{ |0\\rangle, |1\\rangle \\}$ to define our statevectors thus far. \n",
    "\n",
    "`v.measure()` returns a `tuple` which stores info on the eigenvalue measured, the collapsed wave function, and the dimension of the wave function.\n",
    "\n",
    "```python\n",
    "\n",
    "v.measure()[0] # measured eigenvalue\n",
    "v.measure()[1] # collapsed resultant wave function \n",
    "```\n",
    "\n",
    "If we run many iterations of `v.measure()` we should yield a graph that comes close to the intrinsic probabilities of each eigenvalue."
   ]
  },
  {
   "cell_type": "code",
   "execution_count": 435,
   "id": "00f05351-f814-4a1f-9211-c8743c4cb21d",
   "metadata": {},
   "outputs": [
    {
     "name": "stdout",
     "output_type": "stream",
     "text": [
      "# 0 | # 1\n",
      "551 | 449\n"
     ]
    },
    {
     "data": {
      "image/png": "[encoded data removed]",
      "text/plain": [
       "<Figure size 500x500 with 1 Axes>"
      ]
     },
     "metadata": {},
     "output_type": "display_data"
    }
   ],
   "source": [
    "import matplotlib.pyplot as plt\n",
    "\n",
    "results = np.empty([0])\n",
    "\n",
    "num_runs = 1000\n",
    "\n",
    "for i in range(num_runs): \n",
    "    results = np.append(results, v.measure()[0]) # storing resulting eigenvalues\n",
    "\n",
    "num_0 = len(np.where(results == '0')[0]) # # measurements yielding 0\n",
    "num_1 = len(np.where(results == '1')[0]) # # measurements yielding 1 \n",
    "\n",
    "fig, axis = plt.subplots(1, 1, figsize = (5, 5))\n",
    "plt.hist(results) \n",
    "plt.title(f\"Results from measuring {num_runs} times\")\n",
    "plt.ylabel(\"Count\")\n",
    "\n",
    "print(\"{:>3} | {:>3}\".format(\"# 0\", \"# 1\"))\n",
    "print(\"{:>3} | {:>3}\".format(num_0, num_1))"
   ]
  },
  {
   "cell_type": "markdown",
   "id": "829826fc-33fb-4c28-a981-b3b08081410a",
   "metadata": {},
   "source": [
    "Qiskit provides a way to visualize probabilities in a much *simpler* and *direct* way using the `plot_histogram` method in `qiskit.visualization`."
   ]
  },
  {
   "cell_type": "code",
   "execution_count": 422,
   "id": "c5597dce-46ef-42e3-a0da-b031657d758e",
   "metadata": {},
   "outputs": [
    {
     "name": "stdout",
     "output_type": "stream",
     "text": [
      "{'0': 535, '1': 465}\n"
     ]
    },
    {
     "data": {
      "image/png": "[encoded data removed]",
      "text/plain": [
       "<Figure size 500x500 with 1 Axes>"
      ]
     },
     "execution_count": 422,
     "metadata": {},
     "output_type": "execute_result"
    }
   ],
   "source": [
    "from qiskit.visualization import plot_histogram\n",
    "\n",
    "statistics = v.sample_counts(1000) # directly make 1000 measurements \n",
    "                                   # and store results in `statistics`\n",
    "print(statistics) \n",
    "plot_histogram(statistics, figsize = (5, 5)) # makes histogram directly"
   ]
  },
  {
   "cell_type": "markdown",
   "id": "6fb66421-5632-4652-b501-61196a84ab0d",
   "metadata": {},
   "source": [
    "We see the results are almost identical. If we took an infinite number of measurements and collected all the results, we would see the probabilities match with what's predicted from the wavefunction/statevector. \n",
    "\n",
    "By now you shold start to feel that Qiskit is just python. Of course, it is known Qiskit is just a python librray, however for many it seems like an entire new language. One just has to understand how to work with all the features of Qiskit *within* python. The first step is understanding all the quantum gates/operators. \n",
    "\n",
    "---\n",
    "\n",
    "## Single-Qubit Quantum Gates / Operators\n",
    "\n",
    "We start with the Pauli Operators that are used when measuring spins of elementary particles. Spin is one of the ways qubits are defined in real-life. (spin up $|\\uparrow\\rangle$ could mean $|0\\rangle$ and spin down $|\\downarrow\\rangle$ could mean $|1\\rangle$).\n",
    "\n",
    "#### Pauli-X (NOT) Operator\n",
    "\n",
    "The simplest logic gate is the Pauli-X / NOT operator. It inverts a value of a qubit from $0\\rightarrow 1$ or $1\\rightarrow0$, assuming we are in the computational basis. Its matrix representation is accordingly, \n",
    "\n",
    "$$ \\hat{X} \\equiv \\begin{pmatrix} 0 & 1 \\\\ 1 & 0 \\end{pmatrix} $$ \n",
    "\n",
    "We can see its action on the following statevector $|0\\rangle = v= \\begin{pmatrix} 1 \\\\ 0 \\end{pmatrix}$"
   ]
  },
  {
   "cell_type": "code",
   "execution_count": 288,
   "id": "fc75b574-1d43-4863-af64-eb86f99c4fa5",
   "metadata": {},
   "outputs": [
    {
     "name": "stdout",
     "output_type": "stream",
     "text": [
      "Starting Statevector:\n"
     ]
    },
    {
     "data": {
      "text/latex": [
       "$$ |0\\rangle$$"
      ],
      "text/plain": [
       "<IPython.core.display.Latex object>"
      ]
     },
     "metadata": {},
     "output_type": "display_data"
    },
    {
     "name": "stdout",
     "output_type": "stream",
     "text": [
      "Post Pauli-X Operator:\n"
     ]
    },
    {
     "data": {
      "text/latex": [
       "$$ |1\\rangle$$"
      ],
      "text/plain": [
       "<IPython.core.display.Latex object>"
      ]
     },
     "metadata": {},
     "output_type": "display_data"
    }
   ],
   "source": [
    "from qiskit.quantum_info import Operator\n",
    "\n",
    "X = Operator([[0, 1], [1, 0]]) # Pauli X Operator\n",
    "\n",
    "v_initial = Statevector([1, 0]) # Statevector\n",
    "\n",
    "print(\"Starting Statevector:\")\n",
    "display(v_initial.draw(\"latex\"))\n",
    "\n",
    "v_final = v_initial.evolve(X) # applies X on v_i\n",
    "\n",
    "print(\"Post Pauli-X Operator:\")\n",
    "display(v_final.draw(\"latex\"))"
   ]
  },
  {
   "cell_type": "markdown",
   "id": "3116d781-52d9-4e45-9991-8cd6f4fa0849",
   "metadata": {},
   "source": [
    "If we apply two X-gates in succession, we see the qubit flip back to its original state $|0\\rangle$"
   ]
  },
  {
   "cell_type": "code",
   "execution_count": 289,
   "id": "e323143d-6572-4c01-a47e-c47a18c2e817",
   "metadata": {},
   "outputs": [
    {
     "name": "stdout",
     "output_type": "stream",
     "text": [
      "Starting statevector:\n"
     ]
    },
    {
     "data": {
      "text/latex": [
       "$$ |0\\rangle$$"
      ],
      "text/plain": [
       "<IPython.core.display.Latex object>"
      ]
     },
     "metadata": {},
     "output_type": "display_data"
    },
    {
     "name": "stdout",
     "output_type": "stream",
     "text": [
      "Post 1 Pauli-X Operator:\n"
     ]
    },
    {
     "data": {
      "text/latex": [
       "$$ |1\\rangle$$"
      ],
      "text/plain": [
       "<IPython.core.display.Latex object>"
      ]
     },
     "metadata": {},
     "output_type": "display_data"
    },
    {
     "name": "stdout",
     "output_type": "stream",
     "text": [
      "Post 2 Pauli-X Operators:\n"
     ]
    },
    {
     "data": {
      "text/latex": [
       "$$ |0\\rangle$$"
      ],
      "text/plain": [
       "<IPython.core.display.Latex object>"
      ]
     },
     "metadata": {},
     "output_type": "display_data"
    }
   ],
   "source": [
    "v_intermediate = v_initial.evolve(X)\n",
    "v_final = v_intermediate.evolve(X)\n",
    "\n",
    "print(\"Starting statevector:\") \n",
    "display(v_initial.draw(\"latex\"))\n",
    "\n",
    "print(\"Post 1 Pauli-X Operator:\") \n",
    "display(v_intermediate.draw(\"latex\"))\n",
    "\n",
    "print(\"Post 2 Pauli-X Operators:\")\n",
    "display(v_final.draw(\"latex\"))"
   ]
  },
  {
   "cell_type": "markdown",
   "id": "04b7c9b5-9fd9-443d-bda5-b9d16100e7ad",
   "metadata": {},
   "source": [
    "Let's introduce the other 2 Pauli Operators (besides the identity -- which you already know). \n",
    "\n",
    "---\n",
    "\n",
    "#### Pauli Y Operator\n",
    "\n",
    "$$ \\hat{Y} \\equiv \\begin{pmatrix} 0 & -i \\\\ i & 0 \\end{pmatrix} $$\n",
    "\n",
    "#### Pauli Z Operator \n",
    "\n",
    "$$ \\hat{Z} \\equiv \\begin{pmatrix} 1 & 0 \\\\ 0 & -1 \\end{pmatrix} $$ \n",
    "\n",
    "While not important right now, just like how we saw previously the $X$ gate performs the \"bit-flip\" operation,\n",
    "\n",
    "The $Z$ gate performs a \"phase-flip\" operation: \n",
    "\n",
    "$$ Z|0\\rangle = |0\\rangle \\qquad Z|1\\rangle = -|1\\rangle $$\n",
    "\n",
    "The $Y$ gate performs both a bit-flip and a phase-flip. Phase operations are any operation described by the matrix \n",
    "\n",
    "$$ P_\\theta = \\begin{pmatrix} 1 & 0 \\\\ 0 & e^{i\\theta} \\end{pmatrix} $$\n",
    "\n",
    "(i.e. they leave the $|0\\rangle$ constant and tack on a phase to the $|1\\rangle$ component). The $Z$ operator is the case of $P_\\pi$."
   ]
  },
  {
   "cell_type": "markdown",
   "id": "77a66dea-b8a9-4df9-a04a-4b4de955f94e",
   "metadata": {},
   "source": [
    "There are also other important operators: \n",
    "\n",
    "---\n",
    "\n",
    "#### Hadamard Operator \n",
    "\n",
    "$$ \\hat{H} \\equiv \\frac{1}{\\sqrt{2}} \\begin{pmatrix} 1 & 1 \\\\ 1 & -1 \\end{pmatrix} $$ \n",
    "\n",
    "The Hadamard Gates puts (some) qubits into a superposition. In the case of the computational basis states $\\{|0\\rangle, |1\\rangle\\}$, \n",
    "\n",
    "$$ H|0\\rangle = \\frac{1}{\\sqrt{2}} \\begin{pmatrix} 1 & 1 \\\\ 1 & -1 \\end{pmatrix} \\begin{pmatrix} 1 \\\\ 0 \\end{pmatrix} = \\begin{pmatrix} \\frac{1}{\\sqrt{2}} \\\\ \\frac{1}{\\sqrt{2}} \\end{pmatrix} = |+\\rangle $$\n",
    "\n",
    "$$ H|1\\rangle = \\frac{1}{\\sqrt{2}} \\begin{pmatrix} 1 & 1 \\\\ 1 & -1 \\end{pmatrix} \\begin{pmatrix} 0 \\\\ 1 \\end{pmatrix} = \\begin{pmatrix} \\frac{1}{\\sqrt{2}} \\\\ -\\frac{1}{\\sqrt{2}} \\end{pmatrix} = |-\\rangle $$\n",
    "\n",
    "Peforming the same operations instead on $|+\\rangle$ and $|-\\rangle$, \n",
    "\n",
    "$$ H|+\\rangle = |0\\rangle $$\n",
    "$$ H|-\\rangle = |1\\rangle $$\n",
    "\n",
    "Since both $ |+\\rangle $ and $ |-\\rangle $ carry the same probabilitiy distributions for measuring 0 or 1, measuring either $|+\\rangle$ or $|-\\rangle$ provides no information on what the initial state actually was. But by performing the $H$ gate like you see above, we obtain 0 with certainty that the initial state was $|+\\rangle$ and we obtain 1 with certainty that the intiial state was $|-\\rangle$.\n",
    "\n",
    "#### T Gate \n",
    "\n",
    "The T gate is the equivalent to a $P_{\\pi/4}$ phase operation. That is, \n",
    "\n",
    "$$ T \\equiv \\begin{pmatrix} 1 & 0 \\\\ 0 & e^{i\\pi/4} \\end{pmatrix} $$\n",
    "\n",
    "---\n",
    "\n",
    "## Quantum Gates Review \n",
    "\n",
    "Let's define a quantum circuit using `qiskit.QuantumCircuit` and implement some gates we've discussed. "
   ]
  },
  {
   "cell_type": "code",
   "execution_count": 199,
   "id": "2bf30bbb-725c-4cdd-8a79-102142ee3fa3",
   "metadata": {},
   "outputs": [
    {
     "data": {
      "text/html": [
       "<pre style=\"word-wrap: normal;white-space: pre;background: #fff0;line-height: 1.1;font-family: &quot;Courier New&quot;,Courier,monospace\">   ┌───┐┌───┐┌───┐\n",
       "q: ┤ X ├┤ Y ├┤ Z ├\n",
       "   └───┘└───┘└───┘</pre>"
      ],
      "text/plain": [
       "   ┌───┐┌───┐┌───┐\n",
       "q: ┤ X ├┤ Y ├┤ Z ├\n",
       "   └───┘└───┘└───┘"
      ]
     },
     "execution_count": 199,
     "metadata": {},
     "output_type": "execute_result"
    }
   ],
   "source": [
    "from qiskit import QuantumCircuit \n",
    "\n",
    "circuit = QuantumCircuit(1) # initialize circuit with 1 qubit\n",
    "\n",
    "circuit.x(0)\n",
    "circuit.y(0) \n",
    "circuit.z(0) \n",
    "\n",
    "circuit.draw()"
   ]
  },
  {
   "cell_type": "code",
   "execution_count": 313,
   "id": "aeab4821-eed6-4882-bb35-f2a10ddecf13",
   "metadata": {},
   "outputs": [
    {
     "name": "stdout",
     "output_type": "stream",
     "text": [
      "The initial vector:\n"
     ]
    },
    {
     "data": {
      "text/latex": [
       "$$ |0\\rangle$$"
      ],
      "text/plain": [
       "<IPython.core.display.Latex object>"
      ]
     },
     "metadata": {},
     "output_type": "display_data"
    },
    {
     "name": "stdout",
     "output_type": "stream",
     "text": [
      "The resultant vector:\n"
     ]
    },
    {
     "data": {
      "text/latex": [
       "$$- i |0\\rangle$$"
      ],
      "text/plain": [
       "<IPython.core.display.Latex object>"
      ]
     },
     "metadata": {},
     "output_type": "display_data"
    }
   ],
   "source": [
    "ket0 = Statevector([1, 0])\n",
    "\n",
    "v = ket0.evolve(circuit) # Apply the circuit above on the |0> statevector\n",
    "                         # Note the operations are applied sequentially\n",
    "                         # left-to-right\n",
    "\n",
    "print(\"The initial vector:\") \n",
    "display(ket0.draw(\"latex\"))\n",
    "\n",
    "print(\"The resultant vector:\")\n",
    "display(v.draw(\"latex\"))\n"
   ]
  },
  {
   "cell_type": "markdown",
   "id": "a36eab5a-2ca4-4837-bfc5-66defd4b11b7",
   "metadata": {},
   "source": [
    "Let's apply the Hadamard $H$ gate on a $|0\\rangle$. \n",
    "\n",
    "For the following code segments, predict first what the output will be based on information about the gates provided above. "
   ]
  },
  {
   "cell_type": "code",
   "execution_count": 314,
   "id": "b84a0801-21b5-4176-ba48-b23ebe6f3324",
   "metadata": {},
   "outputs": [
    {
     "data": {
      "text/html": [
       "<pre style=\"word-wrap: normal;white-space: pre;background: #fff0;line-height: 1.1;font-family: &quot;Courier New&quot;,Courier,monospace\">   ┌───┐\n",
       "q: ┤ H ├\n",
       "   └───┘</pre>"
      ],
      "text/plain": [
       "   ┌───┐\n",
       "q: ┤ H ├\n",
       "   └───┘"
      ]
     },
     "execution_count": 314,
     "metadata": {},
     "output_type": "execute_result"
    }
   ],
   "source": [
    "circuit = QuantumCircuit(1) \n",
    "\n",
    "circuit.h(0) \n",
    "circuit.draw()"
   ]
  },
  {
   "cell_type": "code",
   "execution_count": 315,
   "id": "b8a89a65-cd86-43b1-8457-40e0717ad7cf",
   "metadata": {},
   "outputs": [
    {
     "data": {
      "text/latex": [
       "$$\\frac{\\sqrt{2}}{2} |0\\rangle+\\frac{\\sqrt{2}}{2} |1\\rangle$$"
      ],
      "text/plain": [
       "<IPython.core.display.Latex object>"
      ]
     },
     "execution_count": 315,
     "metadata": {},
     "output_type": "execute_result"
    }
   ],
   "source": [
    "v = ket0.evolve(circuit) \n",
    "v.draw(\"latex\")"
   ]
  },
  {
   "cell_type": "markdown",
   "id": "054bcfbd-1368-4dc2-bdf0-82aa5064aba5",
   "metadata": {},
   "source": [
    "Applying the Hadamard Gate on `v` = $|+\\rangle$ (same as applying two Hadamard Gates on `ket0` = $|0\\rangle$: "
   ]
  },
  {
   "cell_type": "code",
   "execution_count": 316,
   "id": "0b8023ee-a87e-4d5b-a4aa-07859c66cbe7",
   "metadata": {},
   "outputs": [
    {
     "data": {
      "text/latex": [
       "$$ |0\\rangle$$"
      ],
      "text/plain": [
       "<IPython.core.display.Latex object>"
      ]
     },
     "execution_count": 316,
     "metadata": {},
     "output_type": "execute_result"
    }
   ],
   "source": [
    "w = v.evolve(circuit) # Applying the same circuit on v \n",
    "                      # (a second hadamard gate on |0>)\n",
    "w.draw(\"latex\")"
   ]
  },
  {
   "cell_type": "markdown",
   "id": "8710f25e-9d50-440e-a0e8-d04fce7ed189",
   "metadata": {},
   "source": [
    "We get back the original statevector. \n",
    "\n",
    "Now let's build some random circuit with a bunch of gates and apply it on $|0\\rangle$"
   ]
  },
  {
   "cell_type": "code",
   "execution_count": 317,
   "id": "fbaf977e-8121-4a27-891a-c18df60b4e22",
   "metadata": {},
   "outputs": [
    {
     "data": {
      "text/html": [
       "<pre style=\"word-wrap: normal;white-space: pre;background: #fff0;line-height: 1.1;font-family: &quot;Courier New&quot;,Courier,monospace\">   ┌───┐┌───┐┌───┐┌───┐┌───┐\n",
       "q: ┤ H ├┤ T ├┤ H ├┤ T ├┤ Z ├\n",
       "   └───┘└───┘└───┘└───┘└───┘</pre>"
      ],
      "text/plain": [
       "   ┌───┐┌───┐┌───┐┌───┐┌───┐\n",
       "q: ┤ H ├┤ T ├┤ H ├┤ T ├┤ Z ├\n",
       "   └───┘└───┘└───┘└───┘└───┘"
      ]
     },
     "execution_count": 317,
     "metadata": {},
     "output_type": "execute_result"
    }
   ],
   "source": [
    "circuit = QuantumCircuit(1)\n",
    "\n",
    "circuit.h(0)\n",
    "circuit.t(0)\n",
    "circuit.h(0)\n",
    "circuit.t(0)\n",
    "circuit.z(0) \n",
    "\n",
    "circuit.draw()"
   ]
  },
  {
   "cell_type": "code",
   "execution_count": 321,
   "id": "9596ba3f-88d5-40c3-8fa9-b72e8f210247",
   "metadata": {},
   "outputs": [
    {
     "data": {
      "text/latex": [
       "$$(0.8535533906 + 0.3535533906 i) |0\\rangle+(-0.3535533906 + 0.1464466094 i) |1\\rangle$$"
      ],
      "text/plain": [
       "<IPython.core.display.Latex object>"
      ]
     },
     "execution_count": 321,
     "metadata": {},
     "output_type": "execute_result"
    }
   ],
   "source": [
    "ket0 = Statevector([1, 0])\n",
    "v = ket0.evolve(circuit)\n",
    "\n",
    "v.draw(\"latex\")"
   ]
  },
  {
   "cell_type": "markdown",
   "id": "23e416a8-03b7-4a4a-891c-f94bab7ba27f",
   "metadata": {},
   "source": [
    "We get a very ugly statevector. Perhaps seeing its probability distribution will help. "
   ]
  },
  {
   "cell_type": "code",
   "execution_count": 334,
   "id": "80e41e50-133e-46f5-a99a-440696461605",
   "metadata": {},
   "outputs": [
    {
     "data": {
      "image/png": "[encoded data removed]",
      "text/plain": [
       "<Figure size 700x500 with 1 Axes>"
      ]
     },
     "execution_count": 334,
     "metadata": {},
     "output_type": "execute_result"
    }
   ],
   "source": [
    "statistics = v.sample_counts(4000)\n",
    "plot_histogram(statistics)"
   ]
  },
  {
   "cell_type": "markdown",
   "id": "770e46aa-c81c-4f97-a890-5438a1997ca7",
   "metadata": {},
   "source": [
    "---"
   ]
  },
  {
   "cell_type": "markdown",
   "id": "f643d55d-0284-4492-a6b8-4269b73b100b",
   "metadata": {},
   "source": [
    "## Multi-Qubit Quantum Gates / Operators\n",
    "\n",
    "Now that we know how to work with single-qubit gates we move on to multi-qubit operators which act on more than one qubit/statevector. \n",
    "\n",
    "Remember a multi-qubit state $$|XY\\rangle$$ is the tensor product\n",
    "\n",
    "$$ |XY\\rangle = |X\\rangle \\otimes |Y\\rangle = |X\\rangle|Y\\rangle$$\n",
    "\n",
    "---\n",
    "\n",
    "### SWAP \n",
    "$$ \\text{SWAP} |a\\rangle |b\\rangle = |b\\rangle |a\\rangle $$\n",
    "\n",
    "It's matrix representation \n",
    "\n",
    "$$ \\text{SWAP} \\equiv \\begin{pmatrix} 1 & 0 & 0 & 0 \\\\ 0 & 0 & 1 & 0 \\\\ 0 & 1 & 0 & 0 \\\\ 0 & 0 & 0 & 1 \\end{pmatrix} $$\n",
    "\n",
    "### Controlled Operations\n",
    "\n",
    "A controlled $U$ operator performs an action on a **target** qubit depending on the state of a **control** qubit. \n",
    "\n",
    "When dealing with the computational basis of $|0\\rangle$ and $|1\\rangle$ that defines each statevector, a controlled $U$ operation takes the form \n",
    "\n",
    "$$ CU = |0\\rangle \\langle 0| \\otimes I_R + |1\\rangle\\langle 1| \\otimes U $$\n",
    "\n",
    "To make this idea clearer, let's discuss the CNOT gate. \n",
    "\n",
    "#### CX / CNOT\n",
    "\n",
    "The action of a CNOT gate flips the target qubit if the control qubit is in the state $|1\\rangle$ and leaves the target qubit alone if the control qubit is $|0\\rangle$. To put it cleanly, \n",
    "\n",
    "| Before | After |\n",
    "| :------: | :-----: |\n",
    "| Control /  Target | Control / Target |\n",
    "| $|0\\rangle$   /   $|0\\rangle$ | $|0\\rangle$ / $|0\\rangle$ |\n",
    "| $|0\\rangle$   /   $|1\\rangle$ | $|0\\rangle$ / $|1\\rangle$ |\n",
    "| $|1\\rangle$   /   $|0\\rangle$ | $|1\\rangle$ / $|1\\rangle$ |\n",
    "| $|1\\rangle$   /   $|1\\rangle$ | $|1\\rangle$ / $|0\\rangle$ |\n",
    "\n",
    "It leaves the control qubit alone regardless. In matrix representation \n",
    "\n",
    "$$ CNOT = \\begin{pmatrix} 1 & 0 & 0 & 0 \\\\ 0 & 1 & 0 & 0 \\\\ 0 & 0 & 0 & 1 \\\\ 0 & 0 & 1 & 0 \\end{pmatrix} $$\n",
    "\n",
    "We can perform Controlled Operations using any single or even multi-qubit gate, and also make the control qubit a control multi-qubit system instead. \n",
    "\n",
    "We can also make the control qubit a two-qubit system but the target qubit only a single qubit. For example the CCNOT (controlled-controlled NOT) gate, also known as the Toffoli Gate -- a CNOT gate with *2* control qubits and *1* target qubit. That is, the target qubit gets inverted if and only if *both* control qubits are in the state $|1\\rangle$. \n",
    "\n",
    "---\n",
    "\n",
    "#### Tensor Products\n",
    "\n",
    "Let's create the multi-qubit statevector $|01\\rangle$ as a tensor product from $|0\\rangle \\otimes |1\\rangle$. "
   ]
  },
  {
   "cell_type": "code",
   "execution_count": 338,
   "id": "04abb96f-0914-431d-85a3-deead2097344",
   "metadata": {},
   "outputs": [
    {
     "data": {
      "text/latex": [
       "$$ |01\\rangle$$"
      ],
      "text/plain": [
       "<IPython.core.display.Latex object>"
      ]
     },
     "execution_count": 338,
     "metadata": {},
     "output_type": "execute_result"
    }
   ],
   "source": [
    "zero, one = Statevector.from_label(\"0\"), Statevector.from_label(\"1\")\n",
    "zero.tensor(one).draw(\"latex\")"
   ]
  },
  {
   "cell_type": "markdown",
   "id": "add0cd22-8267-40a5-85b4-37662e8c1c43",
   "metadata": {},
   "source": [
    "Let's create the vectors representing the states $|+\\rangle$ and $\\frac{1}{\\sqrt{2}}(|0\\rangle + i|1\\rangle)$ states and combine them to form a new state vector $|\\psi\\rangle$. "
   ]
  },
  {
   "cell_type": "code",
   "execution_count": 341,
   "id": "282a6861-d745-4bd4-b050-5f1082cf0803",
   "metadata": {},
   "outputs": [
    {
     "data": {
      "text/latex": [
       "$$\\frac{1}{2} |00\\rangle+\\frac{i}{2} |01\\rangle+\\frac{1}{2} |10\\rangle+\\frac{i}{2} |11\\rangle$$"
      ],
      "text/plain": [
       "<IPython.core.display.Latex object>"
      ]
     },
     "execution_count": 341,
     "metadata": {},
     "output_type": "execute_result"
    }
   ],
   "source": [
    "plus = Statevector.from_label(\"+\")\n",
    "i_state = Statevector([1/sqrt(2), 1j/sqrt(2)])\n",
    "\n",
    "psi = plus.tensor(i_state)\n",
    "psi.draw(\"latex\")"
   ]
  },
  {
   "cell_type": "markdown",
   "id": "52e3bf94-12ea-4b17-a705-825c62bdc31c",
   "metadata": {},
   "source": [
    "We can also take the tensor product of operators. The tensor product $C$ of the operators $C = X \\otimes Y$ is an operator that can act on simultaneously on the 2 qubit system that is equivalent  to applying $X$ on the first qubit and $Y$ on the second and taking the tensor product after. \n",
    "\n",
    "To put it cleanly, the following circuit: "
   ]
  },
  {
   "cell_type": "code",
   "execution_count": 351,
   "id": "a72b487c-1c7f-4c9f-8a72-b4bb08e52396",
   "metadata": {},
   "outputs": [
    {
     "data": {
      "text/html": [
       "<pre style=\"word-wrap: normal;white-space: pre;background: #fff0;line-height: 1.1;font-family: &quot;Courier New&quot;,Courier,monospace\">     ┌───┐\n",
       "q_0: ┤ X ├\n",
       "     ├───┤\n",
       "q_1: ┤ Y ├\n",
       "     └───┘</pre>"
      ],
      "text/plain": [
       "     ┌───┐\n",
       "q_0: ┤ X ├\n",
       "     ├───┤\n",
       "q_1: ┤ Y ├\n",
       "     └───┘"
      ]
     },
     "metadata": {},
     "output_type": "display_data"
    }
   ],
   "source": [
    "circuit = QuantumCircuit(2)\n",
    "\n",
    "circuit.x(0)\n",
    "circuit.y(1) \n",
    "display(circuit.draw())"
   ]
  },
  {
   "cell_type": "markdown",
   "id": "9dbd260b-d957-455e-bca8-00cf09f48e2a",
   "metadata": {},
   "source": [
    "is the same as applying the $C = X \\otimes Y$ gate on the tensor product between both `q_0` and `q_1`. \n",
    "\n",
    "We can generate tensor products between operators in a similar fashion as for statevectors."
   ]
  },
  {
   "cell_type": "code",
   "execution_count": 368,
   "id": "d1f7b618-293a-4216-92e0-cca13263251a",
   "metadata": {},
   "outputs": [
    {
     "name": "stdout",
     "output_type": "stream",
     "text": [
      "Operator([[0.+0.j, 0.-0.j, 0.+0.j, 0.-1.j],\n",
      "          [0.+0.j, 0.+0.j, 0.+1.j, 0.+0.j],\n",
      "          [0.+0.j, 0.-1.j, 0.+0.j, 0.-0.j],\n",
      "          [0.+1.j, 0.+0.j, 0.+0.j, 0.+0.j]],\n",
      "         input_dims=(2, 2), output_dims=(2, 2))\n"
     ]
    }
   ],
   "source": [
    "X = Operator([[0, 1], [1, 0]])\n",
    "Y = Operator([[0, -1j], [1j, 0]])\n",
    "\n",
    "C = X.tensor(Y)\n",
    "print(C)"
   ]
  },
  {
   "cell_type": "markdown",
   "id": "1940a8e3-ebc2-4b7c-953e-c744843f312d",
   "metadata": {},
   "source": [
    "Let's show that applying $X$ on qubit $|0\\rangle$ and $Y$ on qubit $|1\\rangle$ is the same as applying $C = X \\otimes Y$ to $|01\\rangle = |0\\rangle \\otimes |1\\rangle$. "
   ]
  },
  {
   "cell_type": "code",
   "execution_count": 386,
   "id": "b6c9ab0a-c551-4013-acd9-bda9283983e2",
   "metadata": {},
   "outputs": [
    {
     "name": "stdout",
     "output_type": "stream",
     "text": [
      "X|0> ⊗ Y|1> \n"
     ]
    },
    {
     "data": {
      "text/latex": [
       "$$- i |10\\rangle$$"
      ],
      "text/plain": [
       "<IPython.core.display.Latex object>"
      ]
     },
     "metadata": {},
     "output_type": "display_data"
    },
    {
     "name": "stdout",
     "output_type": "stream",
     "text": [
      "(X ⊗ Y)|01>\n"
     ]
    },
    {
     "data": {
      "text/latex": [
       "$$- i |10\\rangle$$"
      ],
      "text/plain": [
       "<IPython.core.display.Latex object>"
      ]
     },
     "metadata": {},
     "output_type": "display_data"
    }
   ],
   "source": [
    "ket0 = Statevector([1, 0])\n",
    "ket1 = Statevector([0, 1])\n",
    "ket_combined = ket0.tensor(ket1)\n",
    "\n",
    "# individually applying X and Y to |0> and |1> separately\n",
    "ket0f = ket0.evolve(X)\n",
    "ket1f = ket1.evolve(Y)\n",
    "ket_combinedf = ket0f.tensor(ket1f) \n",
    "\n",
    "print(\"X|0> ⊗ Y|1> \")\n",
    "display(ket_combinedf.draw(\"latex\"))\n",
    "\n",
    "# applying combined operator to both, \n",
    "# redefining ket_combinedf using ket_combined \n",
    "ket_combinedf = ket_combined.evolve(X ^ Y) # X ^ Y = X ⊗ Y = C\n",
    "\n",
    "print(\"(X ⊗ Y)|01>\")\n",
    "display(ket_combinedf.draw(\"latex\"))"
   ]
  },
  {
   "cell_type": "markdown",
   "id": "5b82abcf-d6c9-4188-ba61-e125f29090a9",
   "metadata": {},
   "source": [
    "They're the same! Let's go back to the $|\\psi\\rangle$ vector we defined earlier, "
   ]
  },
  {
   "cell_type": "code",
   "execution_count": 383,
   "id": "1a2ad30e-ede2-4293-adc2-ec52e53040d1",
   "metadata": {},
   "outputs": [
    {
     "data": {
      "text/latex": [
       "$$\\frac{1}{2} |00\\rangle+\\frac{i}{2} |01\\rangle+\\frac{1}{2} |10\\rangle+\\frac{i}{2} |11\\rangle$$"
      ],
      "text/plain": [
       "<IPython.core.display.Latex object>"
      ]
     },
     "execution_count": 383,
     "metadata": {},
     "output_type": "execute_result"
    }
   ],
   "source": [
    "psi.draw(\"latex\")"
   ]
  },
  {
   "cell_type": "markdown",
   "id": "4c0c4704-f465-4458-b6c5-08151dc2794b",
   "metadata": {},
   "source": [
    "Let's create a CNOT operator and calculate CNOT$|\\psi\\rangle$, or $CX|\\psi\\rangle$"
   ]
  },
  {
   "cell_type": "code",
   "execution_count": 384,
   "id": "165fcf00-e7b9-406a-ae60-3024507c048d",
   "metadata": {},
   "outputs": [
    {
     "data": {
      "text/latex": [
       "$$\\frac{1}{2} |00\\rangle+\\frac{i}{2} |01\\rangle+\\frac{i}{2} |10\\rangle+\\frac{1}{2} |11\\rangle$$"
      ],
      "text/plain": [
       "<IPython.core.display.Latex object>"
      ]
     },
     "execution_count": 384,
     "metadata": {},
     "output_type": "execute_result"
    }
   ],
   "source": [
    "CX = Operator(\n",
    "    [\n",
    "        [1, 0, 0, 0], \n",
    "        [0, 1, 0, 0], \n",
    "        [0, 0, 0, 1],\n",
    "        [0, 0, 1, 0], \n",
    "    ]\n",
    ")\n",
    "\n",
    "psi.evolve(CX).draw(\"latex\")"
   ]
  },
  {
   "cell_type": "markdown",
   "id": "712ae323-d062-4d2e-a7e6-2b64285247f6",
   "metadata": {},
   "source": [
    "Compare the coefficients of the $|10\\rangle$ and $|11\\rangle$ states.\n",
    "\n",
    "---\n",
    "\n",
    "### Partial Measurements\n",
    "\n",
    "In the previous chapter, we used the `measure` method to simulate a measurement of a quantum statevector. This method returned the measured eigenvalue, and the resultant collapsed statevector post-measurement. \n",
    "\n",
    "By default, `measure` measures all qubits in the statevector, but we can provide a list of integers to *only* measure the qubits *at* those indices. To demonstrate, the cell below creates the state \n",
    "\n",
    "$$ W = \\frac{1}{\\sqrt{3}} ( |001\\rangle + |010\\rangle + |100\\rangle). $$"
   ]
  },
  {
   "cell_type": "code",
   "execution_count": 4,
   "id": "2b4a6695-aca2-43d2-86ae-804c8198f714",
   "metadata": {},
   "outputs": [
    {
     "data": {
      "text/latex": [
       "$$\\frac{\\sqrt{3}}{3} |001\\rangle+\\frac{\\sqrt{3}}{3} |010\\rangle+\\frac{\\sqrt{3}}{3} |100\\rangle$$"
      ],
      "text/plain": [
       "<IPython.core.display.Latex object>"
      ]
     },
     "execution_count": 4,
     "metadata": {},
     "output_type": "execute_result"
    }
   ],
   "source": [
    "W = Statevector([0, 1, 1, 0, 1, 0, 0, 0] / sqrt(3))\n",
    "W.draw(\"latex\")"
   ]
  },
  {
   "cell_type": "markdown",
   "id": "ad2ef80e-30e0-4734-9f67-cb07663b49e8",
   "metadata": {},
   "source": [
    "If you are confused how the above state was generated using `Statevector`, each indicy of 0 or 1 indicates which of the possible 3-qubit states we define: \n",
    "\n",
    "- $|000\\rangle$ (index 0)\n",
    "- $|001\\rangle$ (index 1)\n",
    "- $|010\\rangle$ (index 2)\n",
    "- $|011\\rangle$ (index 3)\n",
    "- $|100\\rangle$ (index 4)\n",
    "- $\\vdots$ $\\vdots$\n",
    "\n",
    "As you can see, where each of these indices have a 1, defines which 3-qubits state we have. The above statevector $W$ has a 1 in index 1, 2, and 4. \n",
    "\n",
    "Let's simulate a measurement on the **rightmost** qubit (which has index 0) -- the opposite of normal convention (I don't know why, but there's probably a reason). "
   ]
  },
  {
   "cell_type": "code",
   "execution_count": 9,
   "id": "83e88ebf-cb7b-48cf-98aa-23b90be1e08a",
   "metadata": {},
   "outputs": [
    {
     "name": "stdout",
     "output_type": "stream",
     "text": [
      "Measured: 0\n",
      "State after measurement:\n"
     ]
    },
    {
     "data": {
      "text/latex": [
       "$$\\frac{\\sqrt{2}}{2} |010\\rangle+\\frac{\\sqrt{2}}{2} |100\\rangle$$"
      ],
      "text/plain": [
       "<IPython.core.display.Latex object>"
      ]
     },
     "execution_count": 9,
     "metadata": {},
     "output_type": "execute_result"
    }
   ],
   "source": [
    "eigenvalue, new_statevector = W.measure([0]) # measure qubit 0\n",
    "\n",
    "print(f\"Measured: {eigenvalue}\\nState after measurement:\")\n",
    "new_statevector.draw(\"latex\")"
   ]
  },
  {
   "cell_type": "markdown",
   "id": "13075034-c7c0-4e51-ac31-ddf9096b6684",
   "metadata": {},
   "source": [
    "Run the above cell a few times to see different results. Notice that measuring a `1` means we know both the other qubits are $|0\\rangle$, but measuring a `0` means the remaining two qubits are in the state $$ \\frac{1}{\\sqrt{2}}(|01\\rangle + |10\\rangle). $$\n",
    "\n",
    "---"
   ]
  },
  {
   "cell_type": "markdown",
   "id": "64499d89-da9c-4749-958b-75db0d076b25",
   "metadata": {},
   "source": [
    "## Quantum Circuits Overview\n",
    "\n",
    "Let's fully cover all the important aspects of Quantum circuits. "
   ]
  },
  {
   "cell_type": "code",
   "execution_count": 9,
   "id": "58e4ef63-fef2-4bc0-be97-6db20f7aa109",
   "metadata": {},
   "outputs": [],
   "source": [
    "from qiskit import QuantumCircuit, QuantumRegister, ClassicalRegister\n",
    "from qiskit.primitives import Sampler\n",
    "from qiskit.visualization import plot_histogram"
   ]
  },
  {
   "cell_type": "code",
   "execution_count": 11,
   "id": "0354d6e6-6e42-4d00-93fc-56b302acfee5",
   "metadata": {},
   "outputs": [
    {
     "data": {
      "text/html": [
       "<pre style=\"word-wrap: normal;white-space: pre;background: #fff0;line-height: 1.1;font-family: &quot;Courier New&quot;,Courier,monospace\">   ┌───┐┌───┐┌───┐┌───┐\n",
       "q: ┤ H ├┤ S ├┤ H ├┤ T ├\n",
       "   └───┘└───┘└───┘└───┘</pre>"
      ],
      "text/plain": [
       "   ┌───┐┌───┐┌───┐┌───┐\n",
       "q: ┤ H ├┤ S ├┤ H ├┤ T ├\n",
       "   └───┘└───┘└───┘└───┘"
      ]
     },
     "metadata": {},
     "output_type": "display_data"
    }
   ],
   "source": [
    "circuit = QuantumCircuit(1)\n",
    "\n",
    "circuit.h(0)\n",
    "circuit.s(0)\n",
    "circuit.h(0)\n",
    "circuit.t(0)\n",
    "\n",
    "display(circuit.draw())"
   ]
  },
  {
   "cell_type": "markdown",
   "id": "bd3a9b95-66fe-4df7-9582-9e3c9cec09f9",
   "metadata": {},
   "source": [
    "If we wish to set the name of our single qubit to something other than `q`, we use the `QuantumRegister` class like this: "
   ]
  },
  {
   "cell_type": "code",
   "execution_count": 13,
   "id": "49310f3f-56d5-40f4-b4b7-b4e4cea87f67",
   "metadata": {},
   "outputs": [
    {
     "data": {
      "text/html": [
       "<pre style=\"word-wrap: normal;white-space: pre;background: #fff0;line-height: 1.1;font-family: &quot;Courier New&quot;,Courier,monospace\">   ┌───┐┌───┐┌───┐┌───┐\n",
       "X: ┤ H ├┤ S ├┤ H ├┤ T ├\n",
       "   └───┘└───┘└───┘└───┘</pre>"
      ],
      "text/plain": [
       "   ┌───┐┌───┐┌───┐┌───┐\n",
       "X: ┤ H ├┤ S ├┤ H ├┤ T ├\n",
       "   └───┘└───┘└───┘└───┘"
      ]
     },
     "metadata": {},
     "output_type": "display_data"
    }
   ],
   "source": [
    "X = QuantumRegister(1, \"X\")\n",
    "circuit = QuantumCircuit(X)\n",
    "\n",
    "circuit.h(X)\n",
    "circuit.s(X)\n",
    "circuit.h(X)\n",
    "circuit.t(X)\n",
    "\n",
    "display(circuit.draw())"
   ]
  },
  {
   "cell_type": "markdown",
   "id": "f4752d12-3296-4558-a7e4-36b98a6f480f",
   "metadata": {},
   "source": [
    "In Qiskit, the *topmost* qubit in a circuit diagram has index 0 and corresponds to the *rightmost* position in a tuple of qubits. Qiskit's default names for the qubits in an $n$-qubit circuit are represented by the $n$-tuple $(q_{n-1}, \\cdots, q_0)$, with $q_0$ being the qubit on top and $q_{n-1}$ on the bottom in quantum circuit diagrams. \n",
    "\n",
    "We can also create a 2-qubit gate like so: "
   ]
  },
  {
   "cell_type": "code",
   "execution_count": 24,
   "id": "9ebd1803-e28a-4aee-94c4-3834e380b240",
   "metadata": {},
   "outputs": [
    {
     "data": {
      "text/html": [
       "<pre style=\"word-wrap: normal;white-space: pre;background: #fff0;line-height: 1.1;font-family: &quot;Courier New&quot;,Courier,monospace\">     ┌───┐     \n",
       "q_0: ┤ H ├──■──\n",
       "     └───┘┌─┴─┐\n",
       "q_1: ─────┤ X ├\n",
       "          └───┘</pre>"
      ],
      "text/plain": [
       "     ┌───┐     \n",
       "q_0: ┤ H ├──■──\n",
       "     └───┘┌─┴─┐\n",
       "q_1: ─────┤ X ├\n",
       "          └───┘"
      ]
     },
     "metadata": {},
     "output_type": "display_data"
    },
    {
     "data": {
      "text/html": [
       "<pre style=\"word-wrap: normal;white-space: pre;background: #fff0;line-height: 1.1;font-family: &quot;Courier New&quot;,Courier,monospace\">   ┌───┐     \n",
       "X: ┤ H ├──■──\n",
       "   └───┘┌─┴─┐\n",
       "Y: ─────┤ X ├\n",
       "        └───┘</pre>"
      ],
      "text/plain": [
       "   ┌───┐     \n",
       "X: ┤ H ├──■──\n",
       "   └───┘┌─┴─┐\n",
       "Y: ─────┤ X ├\n",
       "        └───┘"
      ]
     },
     "metadata": {},
     "output_type": "display_data"
    }
   ],
   "source": [
    "circuit_default = QuantumCircuit(2)\n",
    "\n",
    "circuit_default.h(0)\n",
    "circuit_default.cx(0, 1)\n",
    "\n",
    "display(circuit_default.draw())\n",
    "\n",
    "#-----------------------------#\n",
    "\n",
    "X = QuantumRegister(1, \"X\")\n",
    "Y = QuantumRegister(1, \"Y\")\n",
    "\n",
    "circuit_named = QuantumCircuit(X, Y)\n",
    "\n",
    "circuit_named.h(X)\n",
    "circuit_named.cx(X, Y)\n",
    "\n",
    "display(circuit_named.draw())"
   ]
  },
  {
   "cell_type": "markdown",
   "id": "161ded1a-0003-433a-a0c6-faa0dc2c017d",
   "metadata": {},
   "source": [
    "We have created two identical circuits, one default-named, and the other custom. Both circuits contain a Hadamard Gate on the first qubit and a CNOT gate with the first qubit as the control and the second as the target. \n",
    "\n",
    "Let's see the action of the above circuit on the standard computational basis states for a 2-qubit system: \n",
    "\n",
    "$$|00\\rangle \\quad |01\\rangle \\quad |10\\rangle \\quad |11\\rangle$$"
   ]
  },
  {
   "cell_type": "code",
   "execution_count": 66,
   "id": "3c15d235-7de7-49ba-a6f6-0381f2272b92",
   "metadata": {},
   "outputs": [
    {
     "name": "stdout",
     "output_type": "stream",
     "text": [
      "|00> -->\n"
     ]
    },
    {
     "data": {
      "text/latex": [
       "$$\\frac{\\sqrt{2}}{2} |00\\rangle+\\frac{\\sqrt{2}}{2} |11\\rangle$$"
      ],
      "text/plain": [
       "<IPython.core.display.Latex object>"
      ]
     },
     "metadata": {},
     "output_type": "display_data"
    },
    {
     "name": "stdout",
     "output_type": "stream",
     "text": [
      "|01> -->\n"
     ]
    },
    {
     "data": {
      "text/latex": [
       "$$\\frac{\\sqrt{2}}{2} |00\\rangle- \\frac{\\sqrt{2}}{2} |11\\rangle$$"
      ],
      "text/plain": [
       "<IPython.core.display.Latex object>"
      ]
     },
     "metadata": {},
     "output_type": "display_data"
    },
    {
     "name": "stdout",
     "output_type": "stream",
     "text": [
      "|10> -->\n"
     ]
    },
    {
     "data": {
      "text/latex": [
       "$$\\frac{\\sqrt{2}}{2} |01\\rangle+\\frac{\\sqrt{2}}{2} |10\\rangle$$"
      ],
      "text/plain": [
       "<IPython.core.display.Latex object>"
      ]
     },
     "metadata": {},
     "output_type": "display_data"
    },
    {
     "name": "stdout",
     "output_type": "stream",
     "text": [
      "|11> -->\n"
     ]
    },
    {
     "data": {
      "text/latex": [
       "$$- \\frac{\\sqrt{2}}{2} |01\\rangle+\\frac{\\sqrt{2}}{2} |10\\rangle$$"
      ],
      "text/plain": [
       "<IPython.core.display.Latex object>"
      ]
     },
     "metadata": {},
     "output_type": "display_data"
    }
   ],
   "source": [
    "zero = Statevector.from_label(\"0\")\n",
    "one = Statevector.from_label(\"1\")\n",
    "\n",
    "standard_basis_states = [zero.tensor(zero), zero.tensor(one), \n",
    "                         one.tensor(zero), one.tensor(one)]\n",
    "\n",
    "names = [\"|00>\", \"|01>\", \"|10>\", \"|11>\"]\n",
    "\n",
    "for i in range(len(standard_basis_states)): \n",
    "    print(f\"{names[i]} -->\")\n",
    "    display(standard_basis_states[i].evolve(circuit_named).draw(\"latex\"))"
   ]
  },
  {
   "cell_type": "markdown",
   "id": "61d04627-7e9c-423c-ae45-745ae3659e83",
   "metadata": {},
   "source": [
    "The cool thing about the circuit above, as you see, it generates the bell states (entangled states that form a basis): \n",
    "\n",
    "$$|\\phi^+\\rangle = \\frac{1}{\\sqrt{2}}|00\\rangle + \\frac{1}{\\sqrt{2}}|11\\rangle $$\n",
    "$$|\\phi^-\\rangle = \\frac{1}{\\sqrt{2}}|00\\rangle - \\frac{1}{\\sqrt{2}}|11\\rangle $$\n",
    "$$|\\psi^+\\rangle = \\frac{1}{\\sqrt{2}}|01\\rangle + \\frac{1}{\\sqrt{2}}|10\\rangle $$\n",
    "$$|\\psi^-\\rangle = \\frac{1}{\\sqrt{2}}|01\\rangle - \\frac{1}{\\sqrt{2}}|10\\rangle $$\n",
    "\n",
    "except the final $|11\\rangle$ state becomes the negative of the fourth $|\\psi^-\\rangle$ bell state. \n",
    "\n",
    "So this circuit gives us a way to convert the standard computational basis into the Bell Basis. The -1 phase factor on the last state, $-|\\psi^-\\rangle$ could be eliminated if we wanted. For instance, we could add a controlled-Z gate at the beginning. (The Z gate performs the bit-flip operation. So a controlled-Z would perform a bit-flip if the first qubit is 1 --> turning $|11\\rangle$ into -$|11\\rangle$)\n",
    "\n",
    "Here is the altered circuit shown: "
   ]
  },
  {
   "cell_type": "code",
   "execution_count": 67,
   "id": "bd001004-04cb-4d12-aedd-5b8cd5d1ab89",
   "metadata": {},
   "outputs": [
    {
     "data": {
      "text/html": [
       "<pre style=\"word-wrap: normal;white-space: pre;background: #fff0;line-height: 1.1;font-family: &quot;Courier New&quot;,Courier,monospace\">        ┌───┐     \n",
       "q_0: ─■─┤ H ├──■──\n",
       "      │ └───┘┌─┴─┐\n",
       "q_1: ─■──────┤ X ├\n",
       "             └───┘</pre>"
      ],
      "text/plain": [
       "        ┌───┐     \n",
       "q_0: ─■─┤ H ├──■──\n",
       "      │ └───┘┌─┴─┐\n",
       "q_1: ─■──────┤ X ├\n",
       "             └───┘"
      ]
     },
     "execution_count": 67,
     "metadata": {},
     "output_type": "execute_result"
    }
   ],
   "source": [
    "circuit = QuantumCircuit(2)\n",
    "\n",
    "circuit.cz(0, 1)\n",
    "circuit.h(0)\n",
    "circuit.cx(0, 1)\n",
    "\n",
    "circuit.draw()"
   ]
  },
  {
   "cell_type": "markdown",
   "id": "9c49ef45-2791-494b-ac89-bc342abc4e02",
   "metadata": {},
   "source": [
    "Implementing the above circuit on the standard computational basis states: "
   ]
  },
  {
   "cell_type": "code",
   "execution_count": 71,
   "id": "027da5eb-903f-4d5f-89d6-0f206a59619a",
   "metadata": {},
   "outputs": [
    {
     "name": "stdout",
     "output_type": "stream",
     "text": [
      "|00> --> \n"
     ]
    },
    {
     "data": {
      "text/latex": [
       "$$\\frac{\\sqrt{2}}{2} |00\\rangle+\\frac{\\sqrt{2}}{2} |11\\rangle$$"
      ],
      "text/plain": [
       "<IPython.core.display.Latex object>"
      ]
     },
     "metadata": {},
     "output_type": "display_data"
    },
    {
     "name": "stdout",
     "output_type": "stream",
     "text": [
      "|01> --> \n"
     ]
    },
    {
     "data": {
      "text/latex": [
       "$$\\frac{\\sqrt{2}}{2} |00\\rangle- \\frac{\\sqrt{2}}{2} |11\\rangle$$"
      ],
      "text/plain": [
       "<IPython.core.display.Latex object>"
      ]
     },
     "metadata": {},
     "output_type": "display_data"
    },
    {
     "name": "stdout",
     "output_type": "stream",
     "text": [
      "|10> --> \n"
     ]
    },
    {
     "data": {
      "text/latex": [
       "$$\\frac{\\sqrt{2}}{2} |01\\rangle+\\frac{\\sqrt{2}}{2} |10\\rangle$$"
      ],
      "text/plain": [
       "<IPython.core.display.Latex object>"
      ]
     },
     "metadata": {},
     "output_type": "display_data"
    },
    {
     "name": "stdout",
     "output_type": "stream",
     "text": [
      "|11> --> \n"
     ]
    },
    {
     "data": {
      "text/latex": [
       "$$\\frac{\\sqrt{2}}{2} |01\\rangle- \\frac{\\sqrt{2}}{2} |10\\rangle$$"
      ],
      "text/plain": [
       "<IPython.core.display.Latex object>"
      ]
     },
     "metadata": {},
     "output_type": "display_data"
    }
   ],
   "source": [
    "for i in range(len(standard_basis_states)):\n",
    "    print(f\"{names[i]} --> \")\n",
    "    display(standard_basis_states[i].evolve(circuit).draw(\"latex\"))"
   ]
  },
  {
   "cell_type": "markdown",
   "id": "a678977f-4f36-46b1-8de2-2e3af0634898",
   "metadata": {},
   "source": [
    "which is identical to the Bell Basis! \n",
    "\n",
    "In general, quantum circuits can contain any number of qubit wires. We may also include classical bit wires, indicated by **double** lines:"
   ]
  },
  {
   "cell_type": "code",
   "execution_count": 10,
   "id": "8721e5bf-1560-40c6-84ba-fbf79acbc752",
   "metadata": {},
   "outputs": [
    {
     "data": {
      "text/html": [
       "<pre style=\"word-wrap: normal;white-space: pre;background: #fff0;line-height: 1.1;font-family: &quot;Courier New&quot;,Courier,monospace\">     ┌───┐     ┌─┐   \n",
       "  X: ┤ H ├──■──┤M├───\n",
       "     └───┘┌─┴─┐└╥┘┌─┐\n",
       "  Y: ─────┤ X ├─╫─┤M├\n",
       "          └───┘ ║ └╥┘\n",
       "A: 1/═══════════╩══╬═\n",
       "                0  ║ \n",
       "B: 1/══════════════╩═\n",
       "                   0 </pre>"
      ],
      "text/plain": [
       "     ┌───┐     ┌─┐   \n",
       "  X: ┤ H ├──■──┤M├───\n",
       "     └───┘┌─┴─┐└╥┘┌─┐\n",
       "  Y: ─────┤ X ├─╫─┤M├\n",
       "          └───┘ ║ └╥┘\n",
       "A: 1/═══════════╩══╬═\n",
       "                0  ║ \n",
       "B: 1/══════════════╩═\n",
       "                   0 "
      ]
     },
     "metadata": {},
     "output_type": "display_data"
    }
   ],
   "source": [
    "X = QuantumRegister(1, \"X\")\n",
    "Y = QuantumRegister(1, \"Y\")\n",
    "A = ClassicalRegister(1, \"A\")\n",
    "B = ClassicalRegister(1, \"B\") # Using `Classical Register` to customize the name\n",
    "                              # for two separate classical bits\n",
    "\n",
    "circuit = QuantumCircuit(X, Y, A, B)\n",
    "circuit.h(X)\n",
    "circuit.cx(X, Y)\n",
    "circuit.measure(X, A)\n",
    "circuit.measure(Y, B)\n",
    "\n",
    "display(circuit.draw())"
   ]
  },
  {
   "cell_type": "markdown",
   "id": "0ad751c6-f77f-4001-9717-76560e861f4f",
   "metadata": {},
   "source": [
    "In this circuit, we have the same hadamard gate & CNOT on two qubits, just like in the previous example. However now we also have two ***classical**** bits, A and B, with two measurement gates. The measurement gates represent standard basis measurements (resulting in either $|0\\rangle$ or $|1\\rangle$ as the eigenvectors). The qubits are changed to their post-measurement states, while the classical measurement outcomes are *overwritten* onto the classical bits to which the arrows point. \n",
    "\n",
    "The circuit can be simulated using the `Sampler()` primitive. "
   ]
  },
  {
   "cell_type": "code",
   "execution_count": 20,
   "id": "5c8d8bc1-4bd8-4a9f-bfd2-14fc49523bc4",
   "metadata": {},
   "outputs": [
    {
     "data": {
      "image/png": "[encoded data removed]",
      "text/plain": [
       "<Figure size 700x500 with 1 Axes>"
      ]
     },
     "execution_count": 20,
     "metadata": {},
     "output_type": "execute_result"
    }
   ],
   "source": [
    "sampler = Sampler() # Initialize Sampler\n",
    "job = sampler.run(circuit) \n",
    "results = job.result()\n",
    "\n",
    "statistics = results.quasi_dists[0].binary_probabilities()\n",
    "plot_histogram(statistics)"
   ]
  },
  {
   "cell_type": "markdown",
   "id": "b6098772-e00e-4fcd-a029-87f438645f00",
   "metadata": {},
   "source": [
    "The `Sampler()` primitive samples outputs of quantum circuits. It displays the **exact** measurement probabilities of a circuit if the `shots` parameter is not specified. We use it by calling its `run()` method with the circuit. This resuls a `BasePrimitiveJob` object, where calling the method `result()` results in output samples and corresponding metadata.\n",
    "\n",
    "It is not important to memorize how to use primitives or any of these methods. I just used them to display how there is an equal probability of yielding the eigenvectors $|00\\rangle$ and $|11\\rangle$ (because the hadamard and CNOT yield the bell basis) and how they changed into 00 and 11 following the measurement gate onto the classical bit wires. "
   ]
  },
  {
   "cell_type": "markdown",
   "id": "60d1605e-6fde-4f3a-8c04-8f2f469ae7f0",
   "metadata": {},
   "source": [
    "## Quantum Circuits Review\n",
    "\n",
    "Let's play with some qubits and bits in a complicated circuit and plot the resultant probabilities."
   ]
  },
  {
   "cell_type": "code",
   "execution_count": 185,
   "id": "e299fcf9-6285-45f7-98ad-a027378ced34",
   "metadata": {},
   "outputs": [
    {
     "data": {
      "image/png": "[encoded data removed]",
      "text/plain": [
       "<Figure size 761.446x284.278 with 1 Axes>"
      ]
     },
     "execution_count": 185,
     "metadata": {},
     "output_type": "execute_result"
    }
   ],
   "source": [
    "q = QuantumRegister(2, name = 'qubit')\n",
    "c = ClassicalRegister(2, name = 'bit')\n",
    "\n",
    "circuit = QuantumCircuit(q, c)\n",
    "\n",
    "circuit.h(q[0])\n",
    "circuit.cx(q[0], q[1])      # Note you do not have to specify q[...]\n",
    "circuit.cz(q[1], q[0])      # I just do it for readability\n",
    "circuit.h(q[1])\n",
    "circuit.cz(q[0], q[1])\n",
    "circuit.measure(q, c)\n",
    "\n",
    "circuit.draw('mpl')"
   ]
  },
  {
   "cell_type": "code",
   "execution_count": 187,
   "id": "70371e3b-053d-4673-8a9e-185fa58ca0ce",
   "metadata": {},
   "outputs": [
    {
     "data": {
      "image/png": "[encoded data removed]",
      "text/plain": [
       "<Figure size 700x500 with 1 Axes>"
      ]
     },
     "metadata": {},
     "output_type": "display_data"
    }
   ],
   "source": [
    "sampler = Sampler() # sampler initialization\n",
    "\n",
    "job = sampler.run(circuit, shots = 128) # sampling 128 runs\n",
    "results = job.result()\n",
    "\n",
    "statistics = results.quasi_dists[0].binary_probabilities()\n",
    "display(plot_histogram(statistics))"
   ]
  },
  {
   "cell_type": "markdown",
   "id": "20fbb162-950a-4a77-9e6c-b6fe3ca12b7f",
   "metadata": {},
   "source": [
    "We see we get roughly an equal 1/4 probabilitiy to yield each computational basis state in its classical form. Let us see this result more closely by performing this circuit on the computational basis states: "
   ]
  },
  {
   "cell_type": "code",
   "execution_count": 190,
   "id": "c55cd1d1-3925-4a1b-a3cf-c52d84f7606b",
   "metadata": {},
   "outputs": [
    {
     "name": "stdout",
     "output_type": "stream",
     "text": [
      "|00> -->\n"
     ]
    },
    {
     "data": {
      "text/latex": [
       "$$\\frac{1}{2} |00\\rangle- \\frac{1}{2} |01\\rangle+\\frac{1}{2} |10\\rangle- \\frac{1}{2} |11\\rangle$$"
      ],
      "text/plain": [
       "<IPython.core.display.Latex object>"
      ]
     },
     "metadata": {},
     "output_type": "display_data"
    },
    {
     "name": "stdout",
     "output_type": "stream",
     "text": [
      "|01> -->\n"
     ]
    },
    {
     "data": {
      "text/latex": [
       "$$\\frac{1}{2} |00\\rangle+\\frac{1}{2} |01\\rangle+\\frac{1}{2} |10\\rangle+\\frac{1}{2} |11\\rangle$$"
      ],
      "text/plain": [
       "<IPython.core.display.Latex object>"
      ]
     },
     "metadata": {},
     "output_type": "display_data"
    },
    {
     "name": "stdout",
     "output_type": "stream",
     "text": [
      "|10> -->\n"
     ]
    },
    {
     "data": {
      "text/latex": [
       "$$\\frac{1}{2} |00\\rangle+\\frac{1}{2} |01\\rangle- \\frac{1}{2} |10\\rangle- \\frac{1}{2} |11\\rangle$$"
      ],
      "text/plain": [
       "<IPython.core.display.Latex object>"
      ]
     },
     "metadata": {},
     "output_type": "display_data"
    },
    {
     "name": "stdout",
     "output_type": "stream",
     "text": [
      "|11> -->\n"
     ]
    },
    {
     "data": {
      "text/latex": [
       "$$\\frac{1}{2} |00\\rangle- \\frac{1}{2} |01\\rangle- \\frac{1}{2} |10\\rangle+\\frac{1}{2} |11\\rangle$$"
      ],
      "text/plain": [
       "<IPython.core.display.Latex object>"
      ]
     },
     "metadata": {},
     "output_type": "display_data"
    }
   ],
   "source": [
    "# Generating the same circuit, but without the measurement gates\n",
    "circuit = QuantumCircuit(2)\n",
    "circuit.h(0)\n",
    "circuit.cx(0, 1)      \n",
    "circuit.cz(1, 0)      \n",
    "circuit.h(1)\n",
    "circuit.cz(0, 1)\n",
    "\n",
    "zero, one = Statevector.from_label(\"0\"), Statevector.from_label(\"1\")\n",
    "\n",
    "standard_basis_states = [zero.tensor(zero), zero.tensor(one), \n",
    "                         one.tensor(zero), one.tensor(one)]\n",
    "names = [\"|00>\", \"|01>\", \"|10>\", \"|11>\"]\n",
    "\n",
    "for i in range(len(standard_basis_states)): \n",
    "    print(f\"{names[i]} -->\")\n",
    "    display(standard_basis_states[i].evolve(circuit).draw(\"latex\"))"
   ]
  },
  {
   "cell_type": "markdown",
   "id": "a31b6b67-6fb4-474e-a7b8-c5b52479cf0f",
   "metadata": {},
   "source": [
    "Here we can clearly see the probabilities for all eigenvectors are 1/4. \n",
    "\n",
    "However, let us apply the circuit on a different statevector. "
   ]
  },
  {
   "cell_type": "code",
   "execution_count": 188,
   "id": "dda64ebf-bca0-4235-b083-e9a0f48ae0dc",
   "metadata": {},
   "outputs": [
    {
     "data": {
      "text/latex": [
       "$$(\\frac{\\sqrt{2}}{6} + \\frac{\\sqrt{2} i}{3}) |00\\rangle- \\frac{\\sqrt{2}}{3} |01\\rangle+(\\frac{\\sqrt{2}}{6} + \\frac{\\sqrt{2} i}{3}) |10\\rangle- \\frac{\\sqrt{2}}{3} |11\\rangle$$"
      ],
      "text/plain": [
       "<IPython.core.display.Latex object>"
      ]
     },
     "metadata": {},
     "output_type": "display_data"
    }
   ],
   "source": [
    "plus = Statevector.from_label(\"+\")\n",
    "vec = Statevector([(1 + 2.0j)/3, -2/3])\n",
    "statevec = plus.tensor(vec)\n",
    "\n",
    "display(statevec.draw('latex'))"
   ]
  },
  {
   "cell_type": "markdown",
   "id": "18069245-bca7-41c5-ad2b-6784da4ea253",
   "metadata": {},
   "source": [
    "This statevector is a tad bit more complicated... Let's see what the circuit does to it."
   ]
  },
  {
   "cell_type": "code",
   "execution_count": 197,
   "id": "6b069390-6de1-436c-9a59-de6d26bfc73a",
   "metadata": {},
   "outputs": [
    {
     "data": {
      "text/latex": [
       "$$(- \\frac{\\sqrt{2}}{6} + \\frac{\\sqrt{2} i}{3}) |00\\rangle+(- \\frac{\\sqrt{2}}{2} - \\frac{\\sqrt{2} i}{3}) |11\\rangle$$"
      ],
      "text/plain": [
       "<IPython.core.display.Latex object>"
      ]
     },
     "metadata": {},
     "output_type": "display_data"
    }
   ],
   "source": [
    "display(statevec.evolve(circuit).draw('latex'))"
   ]
  },
  {
   "cell_type": "markdown",
   "id": "3d5656fb-e328-4366-8dad-c560dfd867c9",
   "metadata": {},
   "source": [
    "Now the only possible measurements are either $|00\\rangle$ or $|11\\rangle$! "
   ]
  }
 ],
 "metadata": {
  "kernelspec": {
   "display_name": "Python 3 (ipykernel)",
   "language": "python",
   "name": "python3"
  },
  "language_info": {
   "codemirror_mode": {
    "name": "ipython",
    "version": 3
   },
   "file_extension": ".py",
   "mimetype": "text/x-python",
   "name": "python",
   "nbconvert_exporter": "python",
   "pygments_lexer": "ipython3",
   "version": "3.11.6"
  }
 },
 "nbformat": 4,
 "nbformat_minor": 5
}
