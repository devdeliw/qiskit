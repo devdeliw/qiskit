{
 "cells": [
  {
   "cell_type": "markdown",
   "id": "5d89166a-8a59-4591-8bc7-1bdc8a1c9d1e",
   "metadata": {},
   "source": [
    "# Ultimate Guide for Qiskit"
   ]
  },
  {
   "cell_type": "markdown",
   "id": "6a7cd5e5-4d21-4868-ab62-885ec70016c0",
   "metadata": {},
   "source": [
    "### States, Measurements, & Operations \n",
    "\n",
    "#### Defining qubit wave functions / statevectors\n",
    "\n",
    "The `Statevector` class provides functionality for defining and manipulating quantum statevectors/wave functions. "
   ]
  },
  {
   "cell_type": "code",
   "execution_count": 3,
   "id": "3dadf1de-65eb-49b3-afc0-46e10019576e",
   "metadata": {},
   "outputs": [],
   "source": [
    "import numpy as np\n",
    "from qiskit.quantum_info import Statevector\n",
    "from numpy import sqrt\n",
    "\n",
    "u = Statevector([1/sqrt(2), 1/sqrt(2)])\n",
    "v = Statevector([(1 + 2.0j)/3, -2/3])\n",
    "w = Statevector([1/3, 2/3])"
   ]
  },
  {
   "cell_type": "markdown",
   "id": "29df78fa-ae9e-41a6-b545-87d26d8af532",
   "metadata": {},
   "source": [
    "The `Statevector` class also provides a `draw` method for displaying statevectors in $\\LaTeX$ format (and text if you want). \n",
    "\n",
    "We can check if these statevectors are valid using the `is_valid` method. \n",
    "\n",
    "Remember, as the norm of components squared $|c_i|^2$ of the statevector represent the probabilities to yield the eigenvalue for the basis we define the statevectors in -- the probabilities $|c_i|^2$ for each eigenvalue must sum to one: $$\\sum_i |c_i|^2 = 1 $$ To put it simply, the Euclidean norm must equal 1. "
   ]
  },
  {
   "cell_type": "code",
   "execution_count": 5,
   "id": "a527863e-3e80-4dcb-9ef4-39d4b5cc01ab",
   "metadata": {},
   "outputs": [
    {
     "data": {
      "text/latex": [
       "$$\\frac{\\sqrt{2}}{2} |0\\rangle+\\frac{\\sqrt{2}}{2} |1\\rangle$$"
      ],
      "text/plain": [
       "<IPython.core.display.Latex object>"
      ]
     },
     "metadata": {},
     "output_type": "display_data"
    },
    {
     "data": {
      "text/latex": [
       "$$(\\frac{1}{3} + \\frac{2 i}{3}) |0\\rangle- \\frac{2}{3} |1\\rangle$$"
      ],
      "text/plain": [
       "<IPython.core.display.Latex object>"
      ]
     },
     "metadata": {},
     "output_type": "display_data"
    },
    {
     "name": "stdout",
     "output_type": "stream",
     "text": [
      "Statevector u is valid? True\n",
      "Statevector w is valid? False\n"
     ]
    }
   ],
   "source": [
    "display(u.draw(\"latex\"))\n",
    "display(v.draw(\"latex\"))\n",
    "\n",
    "print(f\"Statevector u is valid? {u.is_valid()}\")\n",
    "print(f\"Statevector w is valid? {w.is_valid()}\")"
   ]
  },
  {
   "cell_type": "markdown",
   "id": "8e5d1c98-9b74-421a-8b17-b45826a9f3a9",
   "metadata": {},
   "source": [
    "##### Simulating measurements using `Statevector`\n",
    "\n",
    "Using the `measure` method from the `Statevector` class is one way to measure quantum states in Qiskit. "
   ]
  },
  {
   "cell_type": "code",
   "execution_count": 6,
   "id": "77685631-ba8f-4e8a-b8c6-f919deaa2ba9",
   "metadata": {},
   "outputs": [
    {
     "data": {
      "text/latex": [
       "$$(\\frac{1}{3} + \\frac{2 i}{3}) |0\\rangle- \\frac{2}{3} |1\\rangle$$"
      ],
      "text/plain": [
       "<IPython.core.display.Latex object>"
      ]
     },
     "metadata": {},
     "output_type": "display_data"
    },
    {
     "data": {
      "text/plain": [
       "('0',\n",
       " Statevector([0.4472136+0.89442719j, 0.       +0.j        ],\n",
       "             dims=(2,)))"
      ]
     },
     "execution_count": 6,
     "metadata": {},
     "output_type": "execute_result"
    }
   ],
   "source": [
    "# creating qubit wave function & displaying it\n",
    "v = Statevector([(1 + 2.0j)/3, -2/3])\n",
    "display(v.draw(\"latex\"))\n",
    "\n",
    "# measuring\n",
    "v.measure()"
   ]
  },
  {
   "cell_type": "markdown",
   "id": "38a2ac14-cd9b-4433-9670-1696793743c2",
   "metadata": {},
   "source": [
    "Note that as measurement is probabilistic, measuring the above wave function could yield different results. \n",
    "\n",
    "Upon measuring the qubit collapses into either $|0\\rangle$ or $|1\\rangle$, since we have been using the computational basis $\\{ |0\\rangle, |1\\rangle \\}$ to define our statevectors thus far. \n",
    "\n",
    "`v.measure()` returns a `tuple` which stores info on the eigenvalue measured, the collapsed wave function, and the dimension of the wave function.\n",
    "\n",
    "```python\n",
    "\n",
    "v.measure()[0] # measured eigenvalue\n",
    "v.measure()[1] # collapsed resultant wave function \n",
    "```\n",
    "\n",
    "If we run many iterations of `v.measure()` we should yield a graph that comes close to the intrinsic probabilities of each eigenvalue."
   ]
  },
  {
   "cell_type": "code",
   "execution_count": 18,
   "id": "2e82893c-25ae-4258-8bbe-3b9ffe1067fe",
   "metadata": {},
   "outputs": [
    {
     "name": "stdout",
     "output_type": "stream",
     "text": [
      "# 0 | # 1\n",
      "562 | 438\n"
     ]
    },
    {
     "data": {
      "image/png": "[encoded data removed]",
      "text/plain": [
       "<Figure size 500x500 with 1 Axes>"
      ]
     },
     "metadata": {},
     "output_type": "display_data"
    }
   ],
   "source": [
    "import matplotlib.pyplot as plt\n",
    "\n",
    "results = np.empty([0])\n",
    "\n",
    "num_runs = 1000\n",
    "\n",
    "for i in range(num_runs): \n",
    "    results = np.append(results, v.measure()[0]) # storing resulting eigenvalues\n",
    "\n",
    "num_0 = len(np.where(results == '0')[0]) # # measurements yielding 0\n",
    "num_1 = len(np.where(results == '1')[0]) # # measurements yielding 1 \n",
    "\n",
    "fig, axis = plt.subplots(1, 1, figsize = (5, 5))\n",
    "plt.hist(results) \n",
    "plt.title(f\"Results from measuring {num_runs} times\")\n",
    "plt.ylabel(\"Count\")\n",
    "\n",
    "print(\"{:>3} | {:>3}\".format(\"# 0\", \"# 1\"))\n",
    "print(\"{:>3} | {:>3}\".format(num_0, num_1))"
   ]
  },
  {
   "cell_type": "markdown",
   "id": "259c54f5-bb0a-4435-aadd-6370ca727610",
   "metadata": {},
   "source": [
    "Qiskit provides a way to visualize probabilities in a much *simpler* and *direct* way using the `plot_histogram` method in `qiskit.visualization`."
   ]
  },
  {
   "cell_type": "code",
   "execution_count": 19,
   "id": "fb5dbd8e-50d8-4554-8475-bf4b0c5aedfd",
   "metadata": {},
   "outputs": [
    {
     "name": "stdout",
     "output_type": "stream",
     "text": [
      "{'0': 572, '1': 428}\n"
     ]
    },
    {
     "data": {
      "image/png": "[encoded data removed]",
      "text/plain": [
       "<Figure size 500x500 with 1 Axes>"
      ]
     },
     "execution_count": 19,
     "metadata": {},
     "output_type": "execute_result"
    }
   ],
   "source": [
    "from qiskit.visualization import plot_histogram\n",
    "\n",
    "statistics = v.sample_counts(1000) # directly make 1000 measurements \n",
    "                                   # and store results in `statistics`\n",
    "print(statistics) \n",
    "plot_histogram(statistics, figsize = (5, 5)) # makes histogram directly"
   ]
  },
  {
   "cell_type": "markdown",
   "id": "de1b829c-b99c-45b2-a185-4937eadb28d9",
   "metadata": {},
   "source": [
    "We see the results are almost identical. If we took an infinite number of measurements and collected all the results, we would see the probabilities match with what's predicted from the wavefunction/statevector. \n",
    "\n",
    "By now you shold start to feel that Qiskit is just python. Of course, it is known Qiskit is just a python librray, however for many it seems like an entire new language. One just has to understand how to work with all the features of Qiskit *within* python. The first step is understanding all the quantum gates/operators. \n",
    "\n",
    "---\n",
    "\n",
    "## Single-Qubit Quantum Gates / Operators\n",
    "\n",
    "We start with the Pauli Operators that are used when measuring spins of elementary particles. Spin is one of the ways qubits are defined in real-life. (spin up $|\\uparrow\\rangle$ could mean $|0\\rangle$ and spin down $|\\downarrow\\rangle$ could mean $|1\\rangle$).\n",
    "\n",
    "#### Pauli-X (NOT) Operator\n",
    "\n",
    "The simplest logic gate is the Pauli-X / NOT operator. It inverts a value of a qubit from $0\\rightarrow 1$ or $1\\rightarrow0$, assuming we are in the computational basis. Its matrix representation is accordingly, \n",
    "\n",
    "$$ \\hat{X} \\equiv \\begin{pmatrix} 0 & 1 \\\\ 1 & 0 \\end{pmatrix} $$ \n",
    "\n",
    "We can see its action on the following statevector $|0\\rangle = v= \\begin{pmatrix} 1 \\\\ 0 \\end{pmatrix}$"
   ]
  },
  {
   "cell_type": "code",
   "execution_count": 21,
   "id": "a521617d-f2a8-406f-b8b1-20e7bb5a58b1",
   "metadata": {},
   "outputs": [
    {
     "name": "stdout",
     "output_type": "stream",
     "text": [
      "Starting Statevector:\n"
     ]
    },
    {
     "data": {
      "text/latex": [
       "$$ |0\\rangle$$"
      ],
      "text/plain": [
       "<IPython.core.display.Latex object>"
      ]
     },
     "metadata": {},
     "output_type": "display_data"
    },
    {
     "name": "stdout",
     "output_type": "stream",
     "text": [
      "Post Pauli-X Operator:\n"
     ]
    },
    {
     "data": {
      "text/latex": [
       "$$ |1\\rangle$$"
      ],
      "text/plain": [
       "<IPython.core.display.Latex object>"
      ]
     },
     "metadata": {},
     "output_type": "display_data"
    }
   ],
   "source": [
    "from qiskit.quantum_info import Operator\n",
    "\n",
    "X = Operator([[0, 1], [1, 0]]) # Pauli X Operator\n",
    "\n",
    "v_initial = Statevector([1, 0]) # Statevector\n",
    "\n",
    "print(\"Starting Statevector:\")\n",
    "display(v_initial.draw(\"latex\"))\n",
    "\n",
    "v_final = v_initial.evolve(X) # applies X on v_i\n",
    "\n",
    "print(\"Post Pauli-X Operator:\")\n",
    "display(v_final.draw(\"latex\"))"
   ]
  },
  {
   "cell_type": "markdown",
   "id": "f34b786d-81f6-49d6-8927-c36000ed1c1f",
   "metadata": {},
   "source": [
    "If we apply two X-gates in succession, we see the qubit flip back to its original state $|0\\rangle$"
   ]
  },
  {
   "cell_type": "code",
   "execution_count": 22,
   "id": "23b8267e-3c0f-409f-a97d-225ca80c7de2",
   "metadata": {},
   "outputs": [
    {
     "name": "stdout",
     "output_type": "stream",
     "text": [
      "Starting statevector:\n"
     ]
    },
    {
     "data": {
      "text/latex": [
       "$$ |0\\rangle$$"
      ],
      "text/plain": [
       "<IPython.core.display.Latex object>"
      ]
     },
     "metadata": {},
     "output_type": "display_data"
    },
    {
     "name": "stdout",
     "output_type": "stream",
     "text": [
      "Post 1 Pauli-X Operator:\n"
     ]
    },
    {
     "data": {
      "text/latex": [
       "$$ |1\\rangle$$"
      ],
      "text/plain": [
       "<IPython.core.display.Latex object>"
      ]
     },
     "metadata": {},
     "output_type": "display_data"
    },
    {
     "name": "stdout",
     "output_type": "stream",
     "text": [
      "Post 2 Pauli-X Operators:\n"
     ]
    },
    {
     "data": {
      "text/latex": [
       "$$ |0\\rangle$$"
      ],
      "text/plain": [
       "<IPython.core.display.Latex object>"
      ]
     },
     "metadata": {},
     "output_type": "display_data"
    }
   ],
   "source": [
    "v_intermediate = v_initial.evolve(X)\n",
    "v_final = v_intermediate.evolve(X)\n",
    "\n",
    "print(\"Starting statevector:\") \n",
    "display(v_initial.draw(\"latex\"))\n",
    "\n",
    "print(\"Post 1 Pauli-X Operator:\") \n",
    "display(v_intermediate.draw(\"latex\"))\n",
    "\n",
    "print(\"Post 2 Pauli-X Operators:\")\n",
    "display(v_final.draw(\"latex\"))"
   ]
  },
  {
   "cell_type": "markdown",
   "id": "562fb3ca-dee8-4d10-9c7f-b07e10bdcc9d",
   "metadata": {},
   "source": [
    "Let's introduce the other 2 Pauli Operators (besides the identity -- which you already know). \n",
    "\n",
    "---\n",
    "\n",
    "#### Pauli Y Operator\n",
    "\n",
    "$$ \\hat{Y} \\equiv \\begin{pmatrix} 0 & -i \\\\ i & 0 \\end{pmatrix} $$\n",
    "\n",
    "#### Pauli Z Operator \n",
    "\n",
    "$$ \\hat{Z} \\equiv \\begin{pmatrix} 1 & 0 \\\\ 0 & -1 \\end{pmatrix} $$ \n",
    "\n",
    "While not important right now, just like how we saw previously the $X$ gate performs the \"bit-flip\" operation,\n",
    "\n",
    "The $Z$ gate performs a \"phase-flip\" operation: \n",
    "\n",
    "$$ Z|0\\rangle = |0\\rangle \\qquad Z|1\\rangle = -|1\\rangle $$\n",
    "\n",
    "The $Y$ gate performs both a bit-flip and a phase-flip. Phase operations are any operation described by the matrix \n",
    "\n",
    "$$ P_\\theta = \\begin{pmatrix} 1 & 0 \\\\ 0 & e^{i\\theta} \\end{pmatrix} $$\n",
    "\n",
    "(i.e. they leave the $|0\\rangle$ constant and tack on a phase to the $|1\\rangle$ component). The $Z$ operator is the case of $P_\\pi$."
   ]
  },
  {
   "cell_type": "markdown",
   "id": "e8c1e824-a2cd-413c-aa03-166edea171ca",
   "metadata": {},
   "source": [
    "There are also other important operators: \n",
    "\n",
    "---\n",
    "\n",
    "#### Hadamard Operator \n",
    "\n",
    "$$ \\hat{H} \\equiv \\frac{1}{\\sqrt{2}} \\begin{pmatrix} 1 & 1 \\\\ 1 & -1 \\end{pmatrix} $$ \n",
    "\n",
    "The Hadamard Gates puts (some) qubits into a superposition. In the case of the computational basis states $\\{|0\\rangle, |1\\rangle\\}$, \n",
    "\n",
    "$$ H|0\\rangle = \\frac{1}{\\sqrt{2}} \\begin{pmatrix} 1 & 1 \\\\ 1 & -1 \\end{pmatrix} \\begin{pmatrix} 1 \\\\ 0 \\end{pmatrix} = \\begin{pmatrix} \\frac{1}{\\sqrt{2}} \\\\ \\frac{1}{\\sqrt{2}} \\end{pmatrix} = |+\\rangle $$\n",
    "\n",
    "$$ H|1\\rangle = \\frac{1}{\\sqrt{2}} \\begin{pmatrix} 1 & 1 \\\\ 1 & -1 \\end{pmatrix} \\begin{pmatrix} 0 \\\\ 1 \\end{pmatrix} = \\begin{pmatrix} \\frac{1}{\\sqrt{2}} \\\\ -\\frac{1}{\\sqrt{2}} \\end{pmatrix} = |-\\rangle $$\n",
    "\n",
    "Peforming the same operations instead on $|+\\rangle$ and $|-\\rangle$, \n",
    "\n",
    "$$ H|+\\rangle = |0\\rangle $$\n",
    "$$ H|-\\rangle = |1\\rangle $$\n",
    "\n",
    "Since both $ |+\\rangle $ and $ |-\\rangle $ carry the same probabilitiy distributions for measuring 0 or 1, measuring either $|+\\rangle$ or $|-\\rangle$ provides no information on what the initial state actually was. But by performing the $H$ gate like you see above, we obtain 0 with certainty that the initial state was $|+\\rangle$ and we obtain 1 with certainty that the intiial state was $|-\\rangle$.\n",
    "\n",
    "#### T Gate \n",
    "\n",
    "The T gate is the equivalent to a $P_{\\pi/4}$ phase operation. That is, \n",
    "\n",
    "$$ T \\equiv \\begin{pmatrix} 1 & 0 \\\\ 0 & e^{i\\pi/4} \\end{pmatrix} $$\n",
    "\n",
    "---\n",
    "\n",
    "## Quantum Gates Review \n",
    "\n",
    "Let's define a quantum circuit using `qiskit.QuantumCircuit` and implement some gates we've discussed. "
   ]
  },
  {
   "cell_type": "code",
   "execution_count": 25,
   "id": "93bc9719-bfc3-4acf-b4f8-1810b0a6d5dc",
   "metadata": {},
   "outputs": [
    {
     "data": {
      "text/html": [
       "<pre style=\"word-wrap: normal;white-space: pre;background: #fff0;line-height: 1.1;font-family: &quot;Courier New&quot;,Courier,monospace\">   ┌───┐┌───┐┌───┐\n",
       "q: ┤ X ├┤ Y ├┤ Z ├\n",
       "   └───┘└───┘└───┘</pre>"
      ],
      "text/plain": [
       "   ┌───┐┌───┐┌───┐\n",
       "q: ┤ X ├┤ Y ├┤ Z ├\n",
       "   └───┘└───┘└───┘"
      ]
     },
     "execution_count": 25,
     "metadata": {},
     "output_type": "execute_result"
    }
   ],
   "source": [
    "from qiskit import QuantumCircuit \n",
    "\n",
    "circuit = QuantumCircuit(1) # initialize circuit with 1 qubit\n",
    "\n",
    "circuit.x(0)\n",
    "circuit.y(0) \n",
    "circuit.z(0) \n",
    "\n",
    "circuit.draw()"
   ]
  },
  {
   "cell_type": "code",
   "execution_count": 27,
   "id": "d14ddfa8-181a-410c-ae79-db52823f4ad8",
   "metadata": {},
   "outputs": [
    {
     "name": "stdout",
     "output_type": "stream",
     "text": [
      "The initial vector:\n"
     ]
    },
    {
     "data": {
      "text/latex": [
       "$$ |0\\rangle$$"
      ],
      "text/plain": [
       "<IPython.core.display.Latex object>"
      ]
     },
     "metadata": {},
     "output_type": "display_data"
    },
    {
     "name": "stdout",
     "output_type": "stream",
     "text": [
      "The resultant vector:\n"
     ]
    },
    {
     "data": {
      "text/latex": [
       "$$- i |0\\rangle$$"
      ],
      "text/plain": [
       "<IPython.core.display.Latex object>"
      ]
     },
     "metadata": {},
     "output_type": "display_data"
    }
   ],
   "source": [
    "ket0 = Statevector([1, 0])\n",
    "\n",
    "v = ket0.evolve(circuit) # Apply the circuit above on the |0> statevector\n",
    "                         # Note the operations are applied sequentially\n",
    "                         # left-to-right\n",
    "\n",
    "print(\"The initial vector:\") \n",
    "display(ket0.draw(\"latex\"))\n",
    "\n",
    "print(\"The resultant vector:\")\n",
    "display(v.draw(\"latex\"))"
   ]
  },
  {
   "cell_type": "markdown",
   "id": "e02c27fe-517e-48c7-b9ad-bb8507c11415",
   "metadata": {},
   "source": [
    "Let's apply the Hadamard $H$ gate on a $|0\\rangle$. \n",
    "\n",
    "For the following code segments, predict first what the output will be based on information about the gates provided above. "
   ]
  },
  {
   "cell_type": "code",
   "execution_count": 29,
   "id": "308521a2-6ccb-40f3-ac01-24502e707cb9",
   "metadata": {},
   "outputs": [
    {
     "data": {
      "text/html": [
       "<pre style=\"word-wrap: normal;white-space: pre;background: #fff0;line-height: 1.1;font-family: &quot;Courier New&quot;,Courier,monospace\">   ┌───┐\n",
       "q: ┤ H ├\n",
       "   └───┘</pre>"
      ],
      "text/plain": [
       "   ┌───┐\n",
       "q: ┤ H ├\n",
       "   └───┘"
      ]
     },
     "execution_count": 29,
     "metadata": {},
     "output_type": "execute_result"
    }
   ],
   "source": [
    "circuit = QuantumCircuit(1) \n",
    "\n",
    "circuit.h(0) \n",
    "circuit.draw()"
   ]
  },
  {
   "cell_type": "code",
   "execution_count": 30,
   "id": "b99f9eae-a6c0-46d2-a9ee-aab0048294bd",
   "metadata": {},
   "outputs": [
    {
     "data": {
      "text/latex": [
       "$$\\frac{\\sqrt{2}}{2} |0\\rangle+\\frac{\\sqrt{2}}{2} |1\\rangle$$"
      ],
      "text/plain": [
       "<IPython.core.display.Latex object>"
      ]
     },
     "execution_count": 30,
     "metadata": {},
     "output_type": "execute_result"
    }
   ],
   "source": [
    "v = ket0.evolve(circuit) \n",
    "v.draw(\"latex\")"
   ]
  },
  {
   "cell_type": "markdown",
   "id": "6cf89135-bfc0-4ae4-9745-b3ab9143fc67",
   "metadata": {},
   "source": [
    "Applying the Hadamard Gate on `v` = $|+\\rangle$ (same as applying two Hadamard Gates on `ket0` = $|0\\rangle$: "
   ]
  },
  {
   "cell_type": "code",
   "execution_count": 31,
   "id": "e8453311-c6fd-4ac7-befa-ef6cf7e3312e",
   "metadata": {},
   "outputs": [
    {
     "data": {
      "text/latex": [
       "$$ |0\\rangle$$"
      ],
      "text/plain": [
       "<IPython.core.display.Latex object>"
      ]
     },
     "execution_count": 31,
     "metadata": {},
     "output_type": "execute_result"
    }
   ],
   "source": [
    "w = v.evolve(circuit) # Applying the same circuit on v \n",
    "                      # (a second hadamard gate on |0>)\n",
    "w.draw(\"latex\")"
   ]
  },
  {
   "cell_type": "markdown",
   "id": "c075b4b9-cf49-4439-8a4a-4ae516658b72",
   "metadata": {},
   "source": [
    "We get back the original statevector. \n",
    "\n",
    "Now let's build some random circuit with a bunch of gates and apply it on $|0\\rangle$"
   ]
  },
  {
   "cell_type": "code",
   "execution_count": 32,
   "id": "0f3c5c96-6979-41e5-9195-f7b472752532",
   "metadata": {},
   "outputs": [
    {
     "data": {
      "text/html": [
       "<pre style=\"word-wrap: normal;white-space: pre;background: #fff0;line-height: 1.1;font-family: &quot;Courier New&quot;,Courier,monospace\">   ┌───┐┌───┐┌───┐┌───┐┌───┐\n",
       "q: ┤ H ├┤ T ├┤ H ├┤ T ├┤ Z ├\n",
       "   └───┘└───┘└───┘└───┘└───┘</pre>"
      ],
      "text/plain": [
       "   ┌───┐┌───┐┌───┐┌───┐┌───┐\n",
       "q: ┤ H ├┤ T ├┤ H ├┤ T ├┤ Z ├\n",
       "   └───┘└───┘└───┘└───┘└───┘"
      ]
     },
     "execution_count": 32,
     "metadata": {},
     "output_type": "execute_result"
    }
   ],
   "source": [
    "circuit = QuantumCircuit(1)\n",
    "\n",
    "circuit.h(0)\n",
    "circuit.t(0)\n",
    "circuit.h(0)\n",
    "circuit.t(0)\n",
    "circuit.z(0) \n",
    "\n",
    "circuit.draw()"
   ]
  },
  {
   "cell_type": "code",
   "execution_count": 33,
   "id": "fc1ef0af-85c4-47a7-9b09-92c469230064",
   "metadata": {},
   "outputs": [
    {
     "data": {
      "text/latex": [
       "$$(0.8535533906 + 0.3535533906 i) |0\\rangle+(-0.3535533906 + 0.1464466094 i) |1\\rangle$$"
      ],
      "text/plain": [
       "<IPython.core.display.Latex object>"
      ]
     },
     "execution_count": 33,
     "metadata": {},
     "output_type": "execute_result"
    }
   ],
   "source": [
    "ket0 = Statevector([1, 0])\n",
    "v = ket0.evolve(circuit)\n",
    "\n",
    "v.draw(\"latex\")"
   ]
  },
  {
   "cell_type": "markdown",
   "id": "5e7b1d01-8ae8-4584-a51b-28a84c7a0035",
   "metadata": {},
   "source": [
    "We get a very ugly statevector. Perhaps seeing its probability distribution will help. "
   ]
  },
  {
   "cell_type": "code",
   "execution_count": 35,
   "id": "ac6ac3a9-83eb-4a74-84eb-c3f8b9b147f9",
   "metadata": {},
   "outputs": [
    {
     "data": {
      "image/png": "[encoded data removed]",
      "text/plain": [
       "<Figure size 700x500 with 1 Axes>"
      ]
     },
     "execution_count": 35,
     "metadata": {},
     "output_type": "execute_result"
    }
   ],
   "source": [
    "statistics = v.sample_counts(4000)\n",
    "plot_histogram(statistics)"
   ]
  },
  {
   "cell_type": "code",
   "execution_count": null,
   "id": "6b30e0d3-a4e2-4bc6-84e4-b35d5683b9da",
   "metadata": {},
   "outputs": [],
   "source": []
  }
 ],
 "metadata": {
  "kernelspec": {
   "display_name": "Python 3 (ipykernel)",
   "language": "python",
   "name": "python3"
  },
  "language_info": {
   "codemirror_mode": {
    "name": "ipython",
    "version": 3
   },
   "file_extension": ".py",
   "mimetype": "text/x-python",
   "name": "python",
   "nbconvert_exporter": "python",
   "pygments_lexer": "ipython3",
   "version": "3.11.6"
  }
 },
 "nbformat": 4,
 "nbformat_minor": 5
}
