{
 "cells": [
  {
   "cell_type": "markdown",
   "id": "b8bd8a10-5be9-4b71-9dc3-b51c0257223f",
   "metadata": {},
   "source": [
    "## Problem 1\n",
    "---"
   ]
  },
  {
   "cell_type": "code",
   "execution_count": 4,
   "id": "f251487d-f342-4227-a85e-2060d5e3fbed",
   "metadata": {},
   "outputs": [
    {
     "data": {
      "text/latex": [
       "$$\\frac{1}{2} |00\\rangle- \\frac{1}{2} |01\\rangle+\\frac{1}{2} |10\\rangle- \\frac{1}{2} |11\\rangle$$"
      ],
      "text/plain": [
       "<IPython.core.display.Latex object>"
      ]
     },
     "execution_count": 4,
     "metadata": {},
     "output_type": "execute_result"
    }
   ],
   "source": [
    "from qiskit.quantum_info import Statevector, Operator\n",
    "\n",
    "plus = Statevector.from_label(\"+\")\n",
    "minus = Statevector.from_label(\"-\")\n",
    "\n",
    "plusminus = plus.tensor(minus) # Generating |+>|->\n",
    "plusminus.draw('latex')"
   ]
  },
  {
   "cell_type": "code",
   "execution_count": 5,
   "id": "6389056f-ad0f-4ff2-9169-44961fb74fdc",
   "metadata": {},
   "outputs": [
    {
     "data": {
      "text/latex": [
       "$$\\frac{1}{2} |00\\rangle- \\frac{1}{2} |01\\rangle- \\frac{1}{2} |10\\rangle+\\frac{1}{2} |11\\rangle$$"
      ],
      "text/plain": [
       "<IPython.core.display.Latex object>"
      ]
     },
     "execution_count": 5,
     "metadata": {},
     "output_type": "execute_result"
    }
   ],
   "source": [
    "CNOT = Operator(\n",
    "    [ \n",
    "        [1, 0, 0, 0], \n",
    "        [0, 1, 0, 0], \n",
    "        [0, 0, 0, 1], \n",
    "        [0, 0, 1, 0]\n",
    "    ]\n",
    ")\n",
    "\n",
    "plusminus.evolve(CNOT).draw(\"latex\")"
   ]
  },
  {
   "cell_type": "code",
   "execution_count": 17,
   "id": "ceee2177-945d-4441-87b6-4e576cc2c7e0",
   "metadata": {},
   "outputs": [
    {
     "data": {
      "text/html": [
       "<pre style=\"word-wrap: normal;white-space: pre;background: #fff0;line-height: 1.1;font-family: &quot;Courier New&quot;,Courier,monospace\">     ┌───┐\n",
       "q_0: ┤ X ├\n",
       "     └─┬─┘\n",
       "q_1: ──■──\n",
       "          </pre>"
      ],
      "text/plain": [
       "     ┌───┐\n",
       "q_0: ┤ X ├\n",
       "     └─┬─┘\n",
       "q_1: ──■──\n",
       "          "
      ]
     },
     "metadata": {},
     "output_type": "display_data"
    },
    {
     "data": {
      "text/latex": [
       "$$\\frac{1}{2} |00\\rangle- \\frac{1}{2} |01\\rangle- \\frac{1}{2} |10\\rangle+\\frac{1}{2} |11\\rangle$$"
      ],
      "text/plain": [
       "<IPython.core.display.Latex object>"
      ]
     },
     "execution_count": 17,
     "metadata": {},
     "output_type": "execute_result"
    }
   ],
   "source": [
    "from qiskit import QuantumCircuit # We have not done fully introduced QuantumCircuits yet\n",
    "                                  # You can consider this a sneak-peek\n",
    "\n",
    "circuit = QuantumCircuit(2)\n",
    "\n",
    "circuit.cx(1, 0)\n",
    "\n",
    "display(circuit.draw())\n",
    "\n",
    "plusminus = Statevector.from_label(\"+\").tensor(Statevector.from_label(\"-\")) # Generating |+>|->\n",
    "plusminus.evolve(circuit).draw('latex')"
   ]
  },
  {
   "cell_type": "markdown",
   "id": "063dbb10-a4c5-49d6-b27c-27aa59c36a55",
   "metadata": {},
   "source": [
    "## Problem 2\n",
    "---\n",
    "\n",
    "Let's first create the Pauli-$X$ and Pauli-$Y$ operators, as well as the operator $U = X\\otimes Y$"
   ]
  },
  {
   "cell_type": "code",
   "execution_count": 21,
   "id": "4ab774c7-4595-45e1-b2d7-0d7bba5682a3",
   "metadata": {},
   "outputs": [
    {
     "data": {
      "text/latex": [
       "$$\n",
       "\n",
       "\\begin{bmatrix}\n",
       "0 & 0 & 0 & - i  \\\\\n",
       " 0 & 0 & i & 0  \\\\\n",
       " 0 & - i & 0 & 0  \\\\\n",
       " i & 0 & 0 & 0  \\\\\n",
       " \\end{bmatrix}\n",
       "$$"
      ],
      "text/plain": [
       "<IPython.core.display.Latex object>"
      ]
     },
     "execution_count": 21,
     "metadata": {},
     "output_type": "execute_result"
    }
   ],
   "source": [
    "from qiskit.quantum_info import Operator\n",
    "\n",
    "X = Operator(\n",
    "    [\n",
    "        [0, 1], \n",
    "        [1, 0]\n",
    "    ]\n",
    ")\n",
    "\n",
    "Y = Operator(\n",
    "    [\n",
    "        [0, -1j], \n",
    "        [1j, 0]\n",
    "    ]\n",
    ")\n",
    "\n",
    "U = X.tensor(Y) \n",
    "U.draw(\"latex\")"
   ]
  },
  {
   "cell_type": "markdown",
   "id": "e97cc237-4f9c-4a32-aad2-73702cbb6053",
   "metadata": {},
   "source": [
    "Now let's generate the $|+\\rangle$ and $|-\\rangle$, along with their tensor product and get the results of each operation in the question. "
   ]
  },
  {
   "cell_type": "code",
   "execution_count": 28,
   "id": "c14bb2f4-73b4-44a3-a2d3-5af2dbf90b67",
   "metadata": {},
   "outputs": [
    {
     "name": "stdout",
     "output_type": "stream",
     "text": [
      "U|+>|->\n"
     ]
    },
    {
     "data": {
      "text/latex": [
       "$$\\frac{i}{2} |00\\rangle+\\frac{i}{2} |01\\rangle+\\frac{i}{2} |10\\rangle+\\frac{i}{2} |11\\rangle$$"
      ],
      "text/plain": [
       "<IPython.core.display.Latex object>"
      ]
     },
     "metadata": {},
     "output_type": "display_data"
    },
    {
     "name": "stdout",
     "output_type": "stream",
     "text": [
      "X|+> ⊗ Y|->\n"
     ]
    },
    {
     "data": {
      "text/latex": [
       "$$\\frac{i}{2} |00\\rangle+\\frac{i}{2} |01\\rangle+\\frac{i}{2} |10\\rangle+\\frac{i}{2} |11\\rangle$$"
      ],
      "text/plain": [
       "<IPython.core.display.Latex object>"
      ]
     },
     "metadata": {},
     "output_type": "display_data"
    }
   ],
   "source": [
    "plus = Statevector.from_label('+')\n",
    "minus = Statevector.from_label('-')\n",
    "\n",
    "plusminus = plus.tensor(minus)\n",
    "\n",
    "\n",
    "#Implementing U|+>|-> \n",
    "print(\"U|+>|->\")\n",
    "display(plusminus.evolve(U).draw('latex'))\n",
    "\n",
    "# Implementing X|+> ⊗ Y|->\n",
    "print(\"X|+> ⊗ Y|->\")\n",
    "display(plus.evolve(X).tensor(minus.evolve(Y)).draw('latex'))"
   ]
  }
 ],
 "metadata": {
  "kernelspec": {
   "display_name": "Python 3 (ipykernel)",
   "language": "python",
   "name": "python3"
  },
  "language_info": {
   "codemirror_mode": {
    "name": "ipython",
    "version": 3
   },
   "file_extension": ".py",
   "mimetype": "text/x-python",
   "name": "python",
   "nbconvert_exporter": "python",
   "pygments_lexer": "ipython3",
   "version": "3.11.6"
  }
 },
 "nbformat": 4,
 "nbformat_minor": 5
}
