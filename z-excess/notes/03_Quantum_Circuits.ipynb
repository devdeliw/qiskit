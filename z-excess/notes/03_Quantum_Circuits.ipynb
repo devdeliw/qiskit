{
 "cells": [
  {
   "cell_type": "markdown",
   "id": "35e7d3c0-8fb0-421c-8da6-a6df03e7140a",
   "metadata": {},
   "source": [
    "## Quantum Circuits Overview\n",
    "\n",
    "Let's fully cover all the important aspects of Quantum circuits. "
   ]
  },
  {
   "cell_type": "code",
   "execution_count": 7,
   "id": "a06a3049-2e2e-4139-b5c0-8839e6216cc6",
   "metadata": {},
   "outputs": [],
   "source": [
    "from qiskit import QuantumCircuit, QuantumRegister, ClassicalRegister\n",
    "from qiskit.primitives import Sampler\n",
    "from qiskit.visualization import plot_histogram\n",
    "from qiskit.quantum_info import Statevector"
   ]
  },
  {
   "cell_type": "code",
   "execution_count": 2,
   "id": "c6fa059d-6975-469c-9d6b-59494b67faee",
   "metadata": {},
   "outputs": [
    {
     "data": {
      "text/html": [
       "<pre style=\"word-wrap: normal;white-space: pre;background: #fff0;line-height: 1.1;font-family: &quot;Courier New&quot;,Courier,monospace\">   ┌───┐┌───┐┌───┐┌───┐\n",
       "q: ┤ H ├┤ S ├┤ H ├┤ T ├\n",
       "   └───┘└───┘└───┘└───┘</pre>"
      ],
      "text/plain": [
       "   ┌───┐┌───┐┌───┐┌───┐\n",
       "q: ┤ H ├┤ S ├┤ H ├┤ T ├\n",
       "   └───┘└───┘└───┘└───┘"
      ]
     },
     "metadata": {},
     "output_type": "display_data"
    }
   ],
   "source": [
    "circuit = QuantumCircuit(1) # QuantumCircuit() generates the circuit\n",
    "\n",
    "circuit.h(0) # Hadamard Gate on the Qubit of index 0 (there's only one qubit)\n",
    "circuit.s(0)\n",
    "circuit.h(0)\n",
    "circuit.t(0)\n",
    "\n",
    "display(circuit.draw()) # We can display the circuit"
   ]
  },
  {
   "cell_type": "markdown",
   "id": "edc76717-78ce-4cf4-8a4a-76f1a43b8bcc",
   "metadata": {},
   "source": [
    "If we wish to set the name of our single qubit to something other than `q`, we use the `QuantumRegister` class like this: "
   ]
  },
  {
   "cell_type": "code",
   "execution_count": 4,
   "id": "15b7cab3-bae4-4304-bff3-7e6a48b9350f",
   "metadata": {},
   "outputs": [
    {
     "data": {
      "text/html": [
       "<pre style=\"word-wrap: normal;white-space: pre;background: #fff0;line-height: 1.1;font-family: &quot;Courier New&quot;,Courier,monospace\">   ┌───┐┌───┐┌───┐┌───┐\n",
       "X: ┤ H ├┤ S ├┤ H ├┤ T ├\n",
       "   └───┘└───┘└───┘└───┘</pre>"
      ],
      "text/plain": [
       "   ┌───┐┌───┐┌───┐┌───┐\n",
       "X: ┤ H ├┤ S ├┤ H ├┤ T ├\n",
       "   └───┘└───┘└───┘└───┘"
      ]
     },
     "metadata": {},
     "output_type": "display_data"
    }
   ],
   "source": [
    "X = QuantumRegister(1, \"X\")\n",
    "circuit = QuantumCircuit(X)\n",
    "\n",
    "circuit.h(X)\n",
    "circuit.s(X)\n",
    "circuit.h(X)\n",
    "circuit.t(X)\n",
    "\n",
    "display(circuit.draw())"
   ]
  },
  {
   "cell_type": "markdown",
   "id": "a87d57d1-8a3f-4e7f-a612-40d440f7adbc",
   "metadata": {},
   "source": [
    "In Qiskit, the *topmost* qubit in a circuit diagram has index 0 and corresponds to the *rightmost* position in a tuple of qubits. Qiskit's default names for the qubits in an $n$-qubit circuit are represented by the $n$-tuple $(q_{n-1}, \\cdots, q_0)$, with $q_0$ being the qubit on top and $q_{n-1}$ on the bottom in quantum circuit diagrams. \n",
    "\n",
    "We can also create a 2-qubit gate like so: "
   ]
  },
  {
   "cell_type": "code",
   "execution_count": 5,
   "id": "fd0b06cc-343c-4bcb-acd6-c4cc3181d840",
   "metadata": {},
   "outputs": [
    {
     "data": {
      "text/html": [
       "<pre style=\"word-wrap: normal;white-space: pre;background: #fff0;line-height: 1.1;font-family: &quot;Courier New&quot;,Courier,monospace\">     ┌───┐     \n",
       "q_0: ┤ H ├──■──\n",
       "     └───┘┌─┴─┐\n",
       "q_1: ─────┤ X ├\n",
       "          └───┘</pre>"
      ],
      "text/plain": [
       "     ┌───┐     \n",
       "q_0: ┤ H ├──■──\n",
       "     └───┘┌─┴─┐\n",
       "q_1: ─────┤ X ├\n",
       "          └───┘"
      ]
     },
     "metadata": {},
     "output_type": "display_data"
    },
    {
     "data": {
      "text/html": [
       "<pre style=\"word-wrap: normal;white-space: pre;background: #fff0;line-height: 1.1;font-family: &quot;Courier New&quot;,Courier,monospace\">   ┌───┐     \n",
       "X: ┤ H ├──■──\n",
       "   └───┘┌─┴─┐\n",
       "Y: ─────┤ X ├\n",
       "        └───┘</pre>"
      ],
      "text/plain": [
       "   ┌───┐     \n",
       "X: ┤ H ├──■──\n",
       "   └───┘┌─┴─┐\n",
       "Y: ─────┤ X ├\n",
       "        └───┘"
      ]
     },
     "metadata": {},
     "output_type": "display_data"
    }
   ],
   "source": [
    "circuit_default = QuantumCircuit(2)\n",
    "\n",
    "circuit_default.h(0)\n",
    "circuit_default.cx(0, 1)\n",
    "\n",
    "display(circuit_default.draw())\n",
    "\n",
    "#-----------------------------#\n",
    "\n",
    "X = QuantumRegister(1, \"X\")\n",
    "Y = QuantumRegister(1, \"Y\")\n",
    "\n",
    "circuit_named = QuantumCircuit(X, Y)\n",
    "\n",
    "circuit_named.h(X)\n",
    "circuit_named.cx(X, Y)\n",
    "\n",
    "display(circuit_named.draw())"
   ]
  },
  {
   "cell_type": "markdown",
   "id": "05416aaa-ad3d-4554-b084-c68465240589",
   "metadata": {},
   "source": [
    "We have created two identical circuits, one default-named, and the other custom. Both circuits contain a Hadamard Gate on the first qubit and a CNOT gate with the first qubit as the control and the second as the target. \n",
    "\n",
    "Let's see the action of the above circuit on the standard computational basis states for a 2-qubit system: \n",
    "\n",
    "$$|00\\rangle \\quad |01\\rangle \\quad |10\\rangle \\quad |11\\rangle$$"
   ]
  },
  {
   "cell_type": "code",
   "execution_count": 8,
   "id": "026724e9-58f1-437d-96e4-e76baee2f949",
   "metadata": {},
   "outputs": [
    {
     "name": "stdout",
     "output_type": "stream",
     "text": [
      "|00> -->\n"
     ]
    },
    {
     "data": {
      "text/latex": [
       "$$\\frac{\\sqrt{2}}{2} |00\\rangle+\\frac{\\sqrt{2}}{2} |11\\rangle$$"
      ],
      "text/plain": [
       "<IPython.core.display.Latex object>"
      ]
     },
     "metadata": {},
     "output_type": "display_data"
    },
    {
     "name": "stdout",
     "output_type": "stream",
     "text": [
      "|01> -->\n"
     ]
    },
    {
     "data": {
      "text/latex": [
       "$$\\frac{\\sqrt{2}}{2} |00\\rangle- \\frac{\\sqrt{2}}{2} |11\\rangle$$"
      ],
      "text/plain": [
       "<IPython.core.display.Latex object>"
      ]
     },
     "metadata": {},
     "output_type": "display_data"
    },
    {
     "name": "stdout",
     "output_type": "stream",
     "text": [
      "|10> -->\n"
     ]
    },
    {
     "data": {
      "text/latex": [
       "$$\\frac{\\sqrt{2}}{2} |01\\rangle+\\frac{\\sqrt{2}}{2} |10\\rangle$$"
      ],
      "text/plain": [
       "<IPython.core.display.Latex object>"
      ]
     },
     "metadata": {},
     "output_type": "display_data"
    },
    {
     "name": "stdout",
     "output_type": "stream",
     "text": [
      "|11> -->\n"
     ]
    },
    {
     "data": {
      "text/latex": [
       "$$- \\frac{\\sqrt{2}}{2} |01\\rangle+\\frac{\\sqrt{2}}{2} |10\\rangle$$"
      ],
      "text/plain": [
       "<IPython.core.display.Latex object>"
      ]
     },
     "metadata": {},
     "output_type": "display_data"
    }
   ],
   "source": [
    "zero = Statevector.from_label(\"0\")\n",
    "one = Statevector.from_label(\"1\")\n",
    "\n",
    "standard_basis_states = [zero.tensor(zero), zero.tensor(one), \n",
    "                         one.tensor(zero), one.tensor(one)]\n",
    "\n",
    "names = [\"|00>\", \"|01>\", \"|10>\", \"|11>\"]\n",
    "\n",
    "for i in range(len(standard_basis_states)): \n",
    "    print(f\"{names[i]} -->\")\n",
    "    display(standard_basis_states[i].evolve(circuit_named).draw(\"latex\"))"
   ]
  },
  {
   "cell_type": "markdown",
   "id": "e6c2d7a9-4321-4b5b-8dea-0fdb96bfb20b",
   "metadata": {},
   "source": [
    "The cool thing about the circuit above, as you see, it generates the bell states (entangled states that form a basis): \n",
    "\n",
    "$$|\\phi^+\\rangle = \\frac{1}{\\sqrt{2}}|00\\rangle + \\frac{1}{\\sqrt{2}}|11\\rangle $$\n",
    "$$|\\phi^-\\rangle = \\frac{1}{\\sqrt{2}}|00\\rangle - \\frac{1}{\\sqrt{2}}|11\\rangle $$\n",
    "$$|\\psi^+\\rangle = \\frac{1}{\\sqrt{2}}|01\\rangle + \\frac{1}{\\sqrt{2}}|10\\rangle $$\n",
    "$$|\\psi^-\\rangle = \\frac{1}{\\sqrt{2}}|01\\rangle - \\frac{1}{\\sqrt{2}}|10\\rangle $$\n",
    "\n",
    "except the final $|11\\rangle$ state becomes the negative of the fourth $|\\psi^-\\rangle$ bell state. \n",
    "\n",
    "So this circuit gives us a way to convert the standard computational basis into the Bell Basis. The -1 phase factor on the last state, $-|\\psi^-\\rangle$ could be eliminated if we wanted. For instance, we could add a controlled-Z gate at the beginning. (The Z gate performs the bit-flip operation. So a controlled-Z would perform a bit-flip if the first qubit is 1 --> turning $|11\\rangle$ into -$|11\\rangle$)\n",
    "\n",
    "Here is the altered circuit shown: "
   ]
  },
  {
   "cell_type": "code",
   "execution_count": 9,
   "id": "a7445966-da20-4d2e-9821-3665162e0388",
   "metadata": {},
   "outputs": [
    {
     "data": {
      "text/html": [
       "<pre style=\"word-wrap: normal;white-space: pre;background: #fff0;line-height: 1.1;font-family: &quot;Courier New&quot;,Courier,monospace\">        ┌───┐     \n",
       "q_0: ─■─┤ H ├──■──\n",
       "      │ └───┘┌─┴─┐\n",
       "q_1: ─■──────┤ X ├\n",
       "             └───┘</pre>"
      ],
      "text/plain": [
       "        ┌───┐     \n",
       "q_0: ─■─┤ H ├──■──\n",
       "      │ └───┘┌─┴─┐\n",
       "q_1: ─■──────┤ X ├\n",
       "             └───┘"
      ]
     },
     "execution_count": 9,
     "metadata": {},
     "output_type": "execute_result"
    }
   ],
   "source": [
    "circuit = QuantumCircuit(2)\n",
    "\n",
    "circuit.cz(0, 1)\n",
    "circuit.h(0)\n",
    "circuit.cx(0, 1)\n",
    "\n",
    "circuit.draw()"
   ]
  },
  {
   "cell_type": "markdown",
   "id": "91aa7a80-3ed2-4707-bd03-8371c0f07963",
   "metadata": {},
   "source": [
    "Implementing the above circuit on the standard computational basis states: "
   ]
  },
  {
   "cell_type": "code",
   "execution_count": 11,
   "id": "b56894dc-9ed9-42e0-a04c-29b9363b9463",
   "metadata": {},
   "outputs": [
    {
     "name": "stdout",
     "output_type": "stream",
     "text": [
      "|00> --> \n"
     ]
    },
    {
     "data": {
      "text/latex": [
       "$$\\frac{\\sqrt{2}}{2} |00\\rangle+\\frac{\\sqrt{2}}{2} |11\\rangle$$"
      ],
      "text/plain": [
       "<IPython.core.display.Latex object>"
      ]
     },
     "metadata": {},
     "output_type": "display_data"
    },
    {
     "name": "stdout",
     "output_type": "stream",
     "text": [
      "|01> --> \n"
     ]
    },
    {
     "data": {
      "text/latex": [
       "$$\\frac{\\sqrt{2}}{2} |00\\rangle- \\frac{\\sqrt{2}}{2} |11\\rangle$$"
      ],
      "text/plain": [
       "<IPython.core.display.Latex object>"
      ]
     },
     "metadata": {},
     "output_type": "display_data"
    },
    {
     "name": "stdout",
     "output_type": "stream",
     "text": [
      "|10> --> \n"
     ]
    },
    {
     "data": {
      "text/latex": [
       "$$\\frac{\\sqrt{2}}{2} |01\\rangle+\\frac{\\sqrt{2}}{2} |10\\rangle$$"
      ],
      "text/plain": [
       "<IPython.core.display.Latex object>"
      ]
     },
     "metadata": {},
     "output_type": "display_data"
    },
    {
     "name": "stdout",
     "output_type": "stream",
     "text": [
      "|11> --> \n"
     ]
    },
    {
     "data": {
      "text/latex": [
       "$$\\frac{\\sqrt{2}}{2} |01\\rangle- \\frac{\\sqrt{2}}{2} |10\\rangle$$"
      ],
      "text/plain": [
       "<IPython.core.display.Latex object>"
      ]
     },
     "metadata": {},
     "output_type": "display_data"
    }
   ],
   "source": [
    "for i in range(len(standard_basis_states)):\n",
    "    print(f\"{names[i]} --> \")\n",
    "    display(standard_basis_states[i].evolve(circuit).draw(\"latex\"))"
   ]
  },
  {
   "cell_type": "markdown",
   "id": "ae21754e-c25f-458b-811c-f35f983797d5",
   "metadata": {},
   "source": [
    "which is identical to the Bell Basis! \n",
    "\n",
    "In general, quantum circuits can contain any number of qubit wires. We may also include classical bit wires, indicated by **double** lines:"
   ]
  },
  {
   "cell_type": "code",
   "execution_count": 13,
   "id": "015d46df-0ccd-41e7-9dce-dbc36fddead6",
   "metadata": {},
   "outputs": [
    {
     "data": {
      "text/html": [
       "<pre style=\"word-wrap: normal;white-space: pre;background: #fff0;line-height: 1.1;font-family: &quot;Courier New&quot;,Courier,monospace\">     ┌───┐     ┌─┐   \n",
       "  X: ┤ H ├──■──┤M├───\n",
       "     └───┘┌─┴─┐└╥┘┌─┐\n",
       "  Y: ─────┤ X ├─╫─┤M├\n",
       "          └───┘ ║ └╥┘\n",
       "A: 1/═══════════╩══╬═\n",
       "                0  ║ \n",
       "B: 1/══════════════╩═\n",
       "                   0 </pre>"
      ],
      "text/plain": [
       "     ┌───┐     ┌─┐   \n",
       "  X: ┤ H ├──■──┤M├───\n",
       "     └───┘┌─┴─┐└╥┘┌─┐\n",
       "  Y: ─────┤ X ├─╫─┤M├\n",
       "          └───┘ ║ └╥┘\n",
       "A: 1/═══════════╩══╬═\n",
       "                0  ║ \n",
       "B: 1/══════════════╩═\n",
       "                   0 "
      ]
     },
     "metadata": {},
     "output_type": "display_data"
    }
   ],
   "source": [
    "X = QuantumRegister(1, \"X\")\n",
    "Y = QuantumRegister(1, \"Y\")\n",
    "A = ClassicalRegister(1, \"A\")\n",
    "B = ClassicalRegister(1, \"B\") # Using `Classical Register` to customize the name\n",
    "                              # for two separate classical bits\n",
    "\n",
    "circuit = QuantumCircuit(X, Y, A, B)\n",
    "circuit.h(X)\n",
    "circuit.cx(X, Y)\n",
    "circuit.measure(X, A)\n",
    "circuit.measure(Y, B)\n",
    "\n",
    "display(circuit.draw())"
   ]
  },
  {
   "cell_type": "markdown",
   "id": "3a2cfdcb-2afb-49a4-a626-9f964626b3bf",
   "metadata": {},
   "source": [
    "In this circuit, we have the same hadamard gate & CNOT on two qubits, just like in the previous example. However now we also have two ***classical**** bits, A and B, with two measurement gates. The measurement gates represent standard basis measurements (resulting in either $|0\\rangle$ or $|1\\rangle$ as the eigenvectors). The qubits are changed to their post-measurement states, while the classical measurement outcomes are *overwritten* onto the classical bits to which the arrows point. \n",
    "\n",
    "The circuit can be simulated using the `Sampler()` primitive. "
   ]
  },
  {
   "cell_type": "code",
   "execution_count": 15,
   "id": "4f3bf6d0-33bd-4859-8073-722b6155bcaa",
   "metadata": {},
   "outputs": [
    {
     "data": {
      "image/png": "[encoded data removed]",
      "text/plain": [
       "<Figure size 700x500 with 1 Axes>"
      ]
     },
     "execution_count": 15,
     "metadata": {},
     "output_type": "execute_result"
    }
   ],
   "source": [
    "sampler = Sampler() # Initialize Sampler\n",
    "job = sampler.run(circuit) \n",
    "results = job.result()\n",
    "\n",
    "statistics = results.quasi_dists[0].binary_probabilities()\n",
    "plot_histogram(statistics)"
   ]
  },
  {
   "cell_type": "markdown",
   "id": "29aca35c-1b80-48d1-a6c1-f9988cfdeea8",
   "metadata": {},
   "source": [
    "The `Sampler()` primitive samples outputs of quantum circuits. It displays the **exact** measurement probabilities of a circuit if the `shots` parameter is not specified. We use it by calling its `run()` method with the circuit. This resuls a `BasePrimitiveJob` object, where calling the method `result()` results in output samples and corresponding metadata.\n",
    "\n",
    "It is not important to memorize how to use primitives or any of these methods. I just used them to display how there is an equal probability of yielding the eigenvectors $|00\\rangle$ and $|11\\rangle$ (because the hadamard and CNOT yield the bell basis) and how they changed into 00 and 11 following the measurement gate onto the classical bit wires. "
   ]
  },
  {
   "cell_type": "markdown",
   "id": "9114d08b-dbf3-41b9-992a-2f3a4b419c08",
   "metadata": {},
   "source": [
    "## Quantum Circuits Review\n",
    "\n",
    "Let's play with some qubits and bits in a complicated circuit and plot the resultant probabilities."
   ]
  },
  {
   "cell_type": "code",
   "execution_count": 18,
   "id": "6fb4381f-1cef-4508-93ef-9a3fb625eede",
   "metadata": {},
   "outputs": [
    {
     "data": {
      "image/png": "[encoded data removed]",
      "text/plain": [
       "<Figure size 761.446x284.278 with 1 Axes>"
      ]
     },
     "execution_count": 18,
     "metadata": {},
     "output_type": "execute_result"
    }
   ],
   "source": [
    "q = QuantumRegister(2, name = 'qubit')\n",
    "c = ClassicalRegister(2, name = 'bit')\n",
    "\n",
    "circuit = QuantumCircuit(q, c)\n",
    "\n",
    "circuit.h(q[0])\n",
    "circuit.cx(q[0], q[1])      # Note you do not have to specify q[...]\n",
    "circuit.cz(q[1], q[0])      # I just do it for readability\n",
    "circuit.h(q[1])\n",
    "circuit.cz(q[0], q[1])\n",
    "circuit.measure(q, c)\n",
    "\n",
    "circuit.draw('mpl')"
   ]
  },
  {
   "cell_type": "code",
   "execution_count": 19,
   "id": "74594940-a002-4d56-9aea-4a4fe6e8381e",
   "metadata": {},
   "outputs": [
    {
     "data": {
      "image/png": "[encoded data removed]",
      "text/plain": [
       "<Figure size 700x500 with 1 Axes>"
      ]
     },
     "metadata": {},
     "output_type": "display_data"
    }
   ],
   "source": [
    "sampler = Sampler() # sampler initialization\n",
    "\n",
    "job = sampler.run(circuit, shots = 128) # sampling 128 runs\n",
    "results = job.result()\n",
    "\n",
    "statistics = results.quasi_dists[0].binary_probabilities()\n",
    "display(plot_histogram(statistics))"
   ]
  },
  {
   "cell_type": "markdown",
   "id": "07c3aa4d-597f-4f4e-9ab0-d1c8de032b0a",
   "metadata": {},
   "source": [
    "We see we get roughly an equal 1/4 probabilitiy to yield each computational basis state in its classical form. Let us see this result more closely by performing this circuit on the computational basis states: "
   ]
  },
  {
   "cell_type": "code",
   "execution_count": 20,
   "id": "4e0c088e-452d-44cc-9c50-e6d59164758d",
   "metadata": {},
   "outputs": [
    {
     "name": "stdout",
     "output_type": "stream",
     "text": [
      "|00> -->\n"
     ]
    },
    {
     "data": {
      "text/latex": [
       "$$\\frac{1}{2} |00\\rangle- \\frac{1}{2} |01\\rangle+\\frac{1}{2} |10\\rangle- \\frac{1}{2} |11\\rangle$$"
      ],
      "text/plain": [
       "<IPython.core.display.Latex object>"
      ]
     },
     "metadata": {},
     "output_type": "display_data"
    },
    {
     "name": "stdout",
     "output_type": "stream",
     "text": [
      "|01> -->\n"
     ]
    },
    {
     "data": {
      "text/latex": [
       "$$\\frac{1}{2} |00\\rangle+\\frac{1}{2} |01\\rangle+\\frac{1}{2} |10\\rangle+\\frac{1}{2} |11\\rangle$$"
      ],
      "text/plain": [
       "<IPython.core.display.Latex object>"
      ]
     },
     "metadata": {},
     "output_type": "display_data"
    },
    {
     "name": "stdout",
     "output_type": "stream",
     "text": [
      "|10> -->\n"
     ]
    },
    {
     "data": {
      "text/latex": [
       "$$\\frac{1}{2} |00\\rangle+\\frac{1}{2} |01\\rangle- \\frac{1}{2} |10\\rangle- \\frac{1}{2} |11\\rangle$$"
      ],
      "text/plain": [
       "<IPython.core.display.Latex object>"
      ]
     },
     "metadata": {},
     "output_type": "display_data"
    },
    {
     "name": "stdout",
     "output_type": "stream",
     "text": [
      "|11> -->\n"
     ]
    },
    {
     "data": {
      "text/latex": [
       "$$\\frac{1}{2} |00\\rangle- \\frac{1}{2} |01\\rangle- \\frac{1}{2} |10\\rangle+\\frac{1}{2} |11\\rangle$$"
      ],
      "text/plain": [
       "<IPython.core.display.Latex object>"
      ]
     },
     "metadata": {},
     "output_type": "display_data"
    }
   ],
   "source": [
    "# Generating the same circuit, but without the measurement gates\n",
    "circuit = QuantumCircuit(2)\n",
    "circuit.h(0)\n",
    "circuit.cx(0, 1)      \n",
    "circuit.cz(1, 0)      \n",
    "circuit.h(1)\n",
    "circuit.cz(0, 1)\n",
    "\n",
    "zero, one = Statevector.from_label(\"0\"), Statevector.from_label(\"1\")\n",
    "\n",
    "standard_basis_states = [zero.tensor(zero), zero.tensor(one), \n",
    "                         one.tensor(zero), one.tensor(one)]\n",
    "names = [\"|00>\", \"|01>\", \"|10>\", \"|11>\"]\n",
    "\n",
    "for i in range(len(standard_basis_states)): \n",
    "    print(f\"{names[i]} -->\")\n",
    "    display(standard_basis_states[i].evolve(circuit).draw(\"latex\"))"
   ]
  },
  {
   "cell_type": "markdown",
   "id": "8bee6d31-4496-45fc-ad1d-9f0e1a8b01e3",
   "metadata": {},
   "source": [
    "Here we can clearly see the probabilities for all eigenvectors are 1/4. \n",
    "\n",
    "However, let us apply the circuit on a different statevector. "
   ]
  },
  {
   "cell_type": "code",
   "execution_count": 22,
   "id": "82db82ee-7724-4e9f-9339-516391a519cf",
   "metadata": {},
   "outputs": [
    {
     "data": {
      "text/latex": [
       "$$(\\frac{\\sqrt{2}}{6} + \\frac{\\sqrt{2} i}{3}) |00\\rangle- \\frac{\\sqrt{2}}{3} |01\\rangle+(\\frac{\\sqrt{2}}{6} + \\frac{\\sqrt{2} i}{3}) |10\\rangle- \\frac{\\sqrt{2}}{3} |11\\rangle$$"
      ],
      "text/plain": [
       "<IPython.core.display.Latex object>"
      ]
     },
     "metadata": {},
     "output_type": "display_data"
    }
   ],
   "source": [
    "plus = Statevector.from_label(\"+\")\n",
    "vec = Statevector([(1 + 2.0j)/3, -2/3])\n",
    "statevec = plus.tensor(vec)\n",
    "\n",
    "display(statevec.draw('latex'))"
   ]
  },
  {
   "cell_type": "code",
   "execution_count": 23,
   "id": "4706f84c-4d31-4585-93bb-8dda19fb0df0",
   "metadata": {},
   "outputs": [
    {
     "data": {
      "text/latex": [
       "$$(- \\frac{\\sqrt{2}}{6} + \\frac{\\sqrt{2} i}{3}) |00\\rangle+(- \\frac{\\sqrt{2}}{2} - \\frac{\\sqrt{2} i}{3}) |11\\rangle$$"
      ],
      "text/plain": [
       "<IPython.core.display.Latex object>"
      ]
     },
     "execution_count": 23,
     "metadata": {},
     "output_type": "execute_result"
    }
   ],
   "source": [
    "statevec.evolve(circuit).draw('latex')"
   ]
  },
  {
   "cell_type": "markdown",
   "id": "558adacc-f8db-4dbf-8ea5-808813ab3047",
   "metadata": {},
   "source": [
    "Now the only possible measurements are either $|00\\rangle$ or $|11\\rangle$! "
   ]
  }
 ],
 "metadata": {
  "kernelspec": {
   "display_name": "Python 3 (ipykernel)",
   "language": "python",
   "name": "python3"
  },
  "language_info": {
   "codemirror_mode": {
    "name": "ipython",
    "version": 3
   },
   "file_extension": ".py",
   "mimetype": "text/x-python",
   "name": "python",
   "nbconvert_exporter": "python",
   "pygments_lexer": "ipython3",
   "version": "3.11.6"
  }
 },
 "nbformat": 4,
 "nbformat_minor": 5
}
